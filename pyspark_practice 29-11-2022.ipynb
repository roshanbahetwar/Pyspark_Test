{
 "cells": [
  {
   "cell_type": "code",
   "execution_count": 1,
   "id": "f50db6bb",
   "metadata": {},
   "outputs": [
    {
     "name": "stdout",
     "output_type": "stream",
     "text": [
      "Requirement already satisfied: pyspark in c:\\users\\roshan b\\anaconda3\\lib\\site-packages (3.3.1)\n",
      "Requirement already satisfied: py4j==0.10.9.5 in c:\\users\\roshan b\\anaconda3\\lib\\site-packages (from pyspark) (0.10.9.5)\n"
     ]
    }
   ],
   "source": [
    "!pip install pyspark"
   ]
  },
  {
   "cell_type": "code",
   "execution_count": 2,
   "id": "2799303c",
   "metadata": {},
   "outputs": [],
   "source": [
    "import pyspark"
   ]
  },
  {
   "cell_type": "code",
   "execution_count": 3,
   "id": "29e1be4a",
   "metadata": {},
   "outputs": [],
   "source": [
    "from pyspark.sql import SparkSession"
   ]
  },
  {
   "cell_type": "code",
   "execution_count": 4,
   "id": "5f36a406",
   "metadata": {},
   "outputs": [],
   "source": [
    "spark = SparkSession.builder.appName('Practice').getOrCreate()"
   ]
  },
  {
   "cell_type": "code",
   "execution_count": 5,
   "id": "46b3ed4a",
   "metadata": {},
   "outputs": [
    {
     "data": {
      "text/html": [
       "\n",
       "            <div>\n",
       "                <p><b>SparkSession - in-memory</b></p>\n",
       "                \n",
       "        <div>\n",
       "            <p><b>SparkContext</b></p>\n",
       "\n",
       "            <p><a href=\"http://LAPTOP-AT3H5HSA:4041\">Spark UI</a></p>\n",
       "\n",
       "            <dl>\n",
       "              <dt>Version</dt>\n",
       "                <dd><code>v3.3.1</code></dd>\n",
       "              <dt>Master</dt>\n",
       "                <dd><code>local[*]</code></dd>\n",
       "              <dt>AppName</dt>\n",
       "                <dd><code>Practice</code></dd>\n",
       "            </dl>\n",
       "        </div>\n",
       "        \n",
       "            </div>\n",
       "        "
      ],
      "text/plain": [
       "<pyspark.sql.session.SparkSession at 0x2afb7224eb0>"
      ]
     },
     "execution_count": 5,
     "metadata": {},
     "output_type": "execute_result"
    }
   ],
   "source": [
    "spark"
   ]
  },
  {
   "cell_type": "code",
   "execution_count": 9,
   "id": "75ba757d",
   "metadata": {},
   "outputs": [],
   "source": [
    "df_pyspark = spark.read.csv('DS_data_set_analysis.csv',header=True)"
   ]
  },
  {
   "cell_type": "code",
   "execution_count": 10,
   "id": "0202a89f",
   "metadata": {},
   "outputs": [
    {
     "name": "stdout",
     "output_type": "stream",
     "text": [
      "+--------+---------+-----------+----------+-----------+---------+------------------+------------+----------+-------------------+-----------------------+---------------------+------------------------------+------------------------+----------------------+-------------------------------+-----------------+------------+------------------------+-------------+-------------------------+---------------------+---------------------------------+----------------------+----------------------------------+---------+-----------+------------------------+----------------------+------------------+-------------------------------+-------------+--------------+-----------+------------------+-----------------+-----------------------+----------------+-------------------------+------------------------------+-----------------------------+-----------------------------------+-------------------------------------+----------------+----------+------------------+----------+-------------+-------------+--------------+---------------+---------------------+-------------------+--------------+------------+----------------------+--------------------------+---------------+-----------------------+----------------+\n",
      "|iso_code|continent|   location|      date|total_cases|new_cases|new_cases_smoothed|total_deaths|new_deaths|new_deaths_smoothed|total_cases_per_million|new_cases_per_million|new_cases_smoothed_per_million|total_deaths_per_million|new_deaths_per_million|new_deaths_smoothed_per_million|reproduction_rate|icu_patients|icu_patients_per_million|hosp_patients|hosp_patients_per_million|weekly_icu_admissions|weekly_icu_admissions_per_million|weekly_hosp_admissions|weekly_hosp_admissions_per_million|new_tests|total_tests|total_tests_per_thousand|new_tests_per_thousand|new_tests_smoothed|new_tests_smoothed_per_thousand|positive_rate|tests_per_case|tests_units|total_vaccinations|people_vaccinated|people_fully_vaccinated|new_vaccinations|new_vaccinations_smoothed|total_vaccinations_per_hundred|people_vaccinated_per_hundred|people_fully_vaccinated_per_hundred|new_vaccinations_smoothed_per_million|stringency_index|population|population_density|median_age|aged_65_older|aged_70_older|gdp_per_capita|extreme_poverty|cardiovasc_death_rate|diabetes_prevalence|female_smokers|male_smokers|handwashing_facilities|hospital_beds_per_thousand|life_expectancy|human_development_index|excess_mortality|\n",
      "+--------+---------+-----------+----------+-----------+---------+------------------+------------+----------+-------------------+-----------------------+---------------------+------------------------------+------------------------+----------------------+-------------------------------+-----------------+------------+------------------------+-------------+-------------------------+---------------------+---------------------------------+----------------------+----------------------------------+---------+-----------+------------------------+----------------------+------------------+-------------------------------+-------------+--------------+-----------+------------------+-----------------+-----------------------+----------------+-------------------------+------------------------------+-----------------------------+-----------------------------------+-------------------------------------+----------------+----------+------------------+----------+-------------+-------------+--------------+---------------+---------------------+-------------------+--------------+------------+----------------------+--------------------------+---------------+-----------------------+----------------+\n",
      "|     AFG|     Asia|Afghanistan|24/02/2020|          1|        1|              null|        null|      null|               null|                  0.026|                0.026|                          null|                    null|                  null|                           null|             null|        null|                    null|         null|                     null|                 null|                             null|                  null|                              null|     null|       null|                    null|                  null|              null|                           null|         null|          null|       null|              null|             null|                   null|            null|                     null|                          null|                         null|                               null|                                 null|            8.33|  38928341|            54.422|      18.6|        2.581|        1.337|      1803.987|           null|              597.029|               9.59|          null|        null|                37.746|                       0.5|          64.83|                  0.511|            null|\n",
      "|     AFG|     Asia|Afghanistan|25/02/2020|          1|        0|              null|        null|      null|               null|                  0.026|                    0|                          null|                    null|                  null|                           null|             null|        null|                    null|         null|                     null|                 null|                             null|                  null|                              null|     null|       null|                    null|                  null|              null|                           null|         null|          null|       null|              null|             null|                   null|            null|                     null|                          null|                         null|                               null|                                 null|            8.33|  38928341|            54.422|      18.6|        2.581|        1.337|      1803.987|           null|              597.029|               9.59|          null|        null|                37.746|                       0.5|          64.83|                  0.511|            null|\n",
      "|     AFG|     Asia|Afghanistan|26/02/2020|          1|        0|              null|        null|      null|               null|                  0.026|                    0|                          null|                    null|                  null|                           null|             null|        null|                    null|         null|                     null|                 null|                             null|                  null|                              null|     null|       null|                    null|                  null|              null|                           null|         null|          null|       null|              null|             null|                   null|            null|                     null|                          null|                         null|                               null|                                 null|            8.33|  38928341|            54.422|      18.6|        2.581|        1.337|      1803.987|           null|              597.029|               9.59|          null|        null|                37.746|                       0.5|          64.83|                  0.511|            null|\n",
      "|     AFG|     Asia|Afghanistan|27/02/2020|          1|        0|              null|        null|      null|               null|                  0.026|                    0|                          null|                    null|                  null|                           null|             null|        null|                    null|         null|                     null|                 null|                             null|                  null|                              null|     null|       null|                    null|                  null|              null|                           null|         null|          null|       null|              null|             null|                   null|            null|                     null|                          null|                         null|                               null|                                 null|            8.33|  38928341|            54.422|      18.6|        2.581|        1.337|      1803.987|           null|              597.029|               9.59|          null|        null|                37.746|                       0.5|          64.83|                  0.511|            null|\n",
      "|     AFG|     Asia|Afghanistan|28/02/2020|          1|        0|              null|        null|      null|               null|                  0.026|                    0|                          null|                    null|                  null|                           null|             null|        null|                    null|         null|                     null|                 null|                             null|                  null|                              null|     null|       null|                    null|                  null|              null|                           null|         null|          null|       null|              null|             null|                   null|            null|                     null|                          null|                         null|                               null|                                 null|            8.33|  38928341|            54.422|      18.6|        2.581|        1.337|      1803.987|           null|              597.029|               9.59|          null|        null|                37.746|                       0.5|          64.83|                  0.511|            null|\n",
      "|     AFG|     Asia|Afghanistan|29/02/2020|          1|        0|             0.143|        null|      null|                  0|                  0.026|                    0|                         0.004|                    null|                  null|                              0|             null|        null|                    null|         null|                     null|                 null|                             null|                  null|                              null|     null|       null|                    null|                  null|              null|                           null|         null|          null|       null|              null|             null|                   null|            null|                     null|                          null|                         null|                               null|                                 null|            8.33|  38928341|            54.422|      18.6|        2.581|        1.337|      1803.987|           null|              597.029|               9.59|          null|        null|                37.746|                       0.5|          64.83|                  0.511|            null|\n",
      "|     AFG|     Asia|Afghanistan|01/03/2020|          1|        0|             0.143|        null|      null|                  0|                  0.026|                    0|                         0.004|                    null|                  null|                              0|             null|        null|                    null|         null|                     null|                 null|                             null|                  null|                              null|     null|       null|                    null|                  null|              null|                           null|         null|          null|       null|              null|             null|                   null|            null|                     null|                          null|                         null|                               null|                                 null|           27.78|  38928341|            54.422|      18.6|        2.581|        1.337|      1803.987|           null|              597.029|               9.59|          null|        null|                37.746|                       0.5|          64.83|                  0.511|            null|\n",
      "|     AFG|     Asia|Afghanistan|02/03/2020|          1|        0|                 0|        null|      null|                  0|                  0.026|                    0|                             0|                    null|                  null|                              0|             null|        null|                    null|         null|                     null|                 null|                             null|                  null|                              null|     null|       null|                    null|                  null|              null|                           null|         null|          null|       null|              null|             null|                   null|            null|                     null|                          null|                         null|                               null|                                 null|           27.78|  38928341|            54.422|      18.6|        2.581|        1.337|      1803.987|           null|              597.029|               9.59|          null|        null|                37.746|                       0.5|          64.83|                  0.511|            null|\n",
      "|     AFG|     Asia|Afghanistan|03/03/2020|          2|        1|             0.143|        null|      null|                  0|                  0.051|                0.026|                         0.004|                    null|                  null|                              0|             null|        null|                    null|         null|                     null|                 null|                             null|                  null|                              null|     null|       null|                    null|                  null|              null|                           null|         null|          null|       null|              null|             null|                   null|            null|                     null|                          null|                         null|                               null|                                 null|           27.78|  38928341|            54.422|      18.6|        2.581|        1.337|      1803.987|           null|              597.029|               9.59|          null|        null|                37.746|                       0.5|          64.83|                  0.511|            null|\n",
      "|     AFG|     Asia|Afghanistan|04/03/2020|          4|        2|             0.429|        null|      null|                  0|                  0.103|                0.051|                         0.011|                    null|                  null|                              0|             null|        null|                    null|         null|                     null|                 null|                             null|                  null|                              null|     null|       null|                    null|                  null|              null|                           null|         null|          null|       null|              null|             null|                   null|            null|                     null|                          null|                         null|                               null|                                 null|           27.78|  38928341|            54.422|      18.6|        2.581|        1.337|      1803.987|           null|              597.029|               9.59|          null|        null|                37.746|                       0.5|          64.83|                  0.511|            null|\n",
      "|     AFG|     Asia|Afghanistan|05/03/2020|          4|        0|             0.429|        null|      null|                  0|                  0.103|                    0|                         0.011|                    null|                  null|                              0|             null|        null|                    null|         null|                     null|                 null|                             null|                  null|                              null|     null|       null|                    null|                  null|              null|                           null|         null|          null|       null|              null|             null|                   null|            null|                     null|                          null|                         null|                               null|                                 null|           27.78|  38928341|            54.422|      18.6|        2.581|        1.337|      1803.987|           null|              597.029|               9.59|          null|        null|                37.746|                       0.5|          64.83|                  0.511|            null|\n",
      "|     AFG|     Asia|Afghanistan|06/03/2020|          4|        0|             0.429|        null|      null|                  0|                  0.103|                    0|                         0.011|                    null|                  null|                              0|             null|        null|                    null|         null|                     null|                 null|                             null|                  null|                              null|     null|       null|                    null|                  null|              null|                           null|         null|          null|       null|              null|             null|                   null|            null|                     null|                          null|                         null|                               null|                                 null|           27.78|  38928341|            54.422|      18.6|        2.581|        1.337|      1803.987|           null|              597.029|               9.59|          null|        null|                37.746|                       0.5|          64.83|                  0.511|            null|\n",
      "|     AFG|     Asia|Afghanistan|07/03/2020|          4|        0|             0.429|        null|      null|                  0|                  0.103|                    0|                         0.011|                    null|                  null|                              0|             null|        null|                    null|         null|                     null|                 null|                             null|                  null|                              null|     null|       null|                    null|                  null|              null|                           null|         null|          null|       null|              null|             null|                   null|            null|                     null|                          null|                         null|                               null|                                 null|           27.78|  38928341|            54.422|      18.6|        2.581|        1.337|      1803.987|           null|              597.029|               9.59|          null|        null|                37.746|                       0.5|          64.83|                  0.511|            null|\n",
      "|     AFG|     Asia|Afghanistan|08/03/2020|          5|        1|             0.571|        null|      null|                  0|                  0.128|                0.026|                         0.015|                    null|                  null|                              0|             null|        null|                    null|         null|                     null|                 null|                             null|                  null|                              null|     null|       null|                    null|                  null|              null|                           null|         null|          null|       null|              null|             null|                   null|            null|                     null|                          null|                         null|                               null|                                 null|           27.78|  38928341|            54.422|      18.6|        2.581|        1.337|      1803.987|           null|              597.029|               9.59|          null|        null|                37.746|                       0.5|          64.83|                  0.511|            null|\n",
      "|     AFG|     Asia|Afghanistan|09/03/2020|          7|        2|             0.857|        null|      null|                  0|                   0.18|                0.051|                         0.022|                    null|                  null|                              0|             null|        null|                    null|         null|                     null|                 null|                             null|                  null|                              null|     null|       null|                    null|                  null|              null|                           null|         null|          null|       null|              null|             null|                   null|            null|                     null|                          null|                         null|                               null|                                 null|           27.78|  38928341|            54.422|      18.6|        2.581|        1.337|      1803.987|           null|              597.029|               9.59|          null|        null|                37.746|                       0.5|          64.83|                  0.511|            null|\n",
      "|     AFG|     Asia|Afghanistan|10/03/2020|          8|        1|             0.857|        null|      null|                  0|                  0.206|                0.026|                         0.022|                    null|                  null|                              0|             null|        null|                    null|         null|                     null|                 null|                             null|                  null|                              null|     null|       null|                    null|                  null|              null|                           null|         null|          null|       null|              null|             null|                   null|            null|                     null|                          null|                         null|                               null|                                 null|           27.78|  38928341|            54.422|      18.6|        2.581|        1.337|      1803.987|           null|              597.029|               9.59|          null|        null|                37.746|                       0.5|          64.83|                  0.511|            null|\n",
      "|     AFG|     Asia|Afghanistan|11/03/2020|         11|        3|                 1|        null|      null|                  0|                  0.283|                0.077|                         0.026|                    null|                  null|                              0|             null|        null|                    null|         null|                     null|                 null|                             null|                  null|                              null|     null|       null|                    null|                  null|              null|                           null|         null|          null|       null|              null|             null|                   null|            null|                     null|                          null|                         null|                               null|                                 null|           27.78|  38928341|            54.422|      18.6|        2.581|        1.337|      1803.987|           null|              597.029|               9.59|          null|        null|                37.746|                       0.5|          64.83|                  0.511|            null|\n",
      "|     AFG|     Asia|Afghanistan|12/03/2020|         12|        1|             1.143|        null|      null|                  0|                  0.308|                0.026|                         0.029|                    null|                  null|                              0|             null|        null|                    null|         null|                     null|                 null|                             null|                  null|                              null|     null|       null|                    null|                  null|              null|                           null|         null|          null|       null|              null|             null|                   null|            null|                     null|                          null|                         null|                               null|                                 null|           27.78|  38928341|            54.422|      18.6|        2.581|        1.337|      1803.987|           null|              597.029|               9.59|          null|        null|                37.746|                       0.5|          64.83|                  0.511|            null|\n",
      "|     AFG|     Asia|Afghanistan|13/03/2020|         13|        1|             1.286|        null|      null|                  0|                  0.334|                0.026|                         0.033|                    null|                  null|                              0|             null|        null|                    null|         null|                     null|                 null|                             null|                  null|                              null|     null|       null|                    null|                  null|              null|                           null|         null|          null|       null|              null|             null|                   null|            null|                     null|                          null|                         null|                               null|                                 null|           27.78|  38928341|            54.422|      18.6|        2.581|        1.337|      1803.987|           null|              597.029|               9.59|          null|        null|                37.746|                       0.5|          64.83|                  0.511|            null|\n",
      "|     AFG|     Asia|Afghanistan|14/03/2020|         15|        2|             1.571|        null|      null|                  0|                  0.385|                0.051|                          0.04|                    null|                  null|                              0|             null|        null|                    null|         null|                     null|                 null|                             null|                  null|                              null|     null|       null|                    null|                  null|              null|                           null|         null|          null|       null|              null|             null|                   null|            null|                     null|                          null|                         null|                               null|                                 null|           38.89|  38928341|            54.422|      18.6|        2.581|        1.337|      1803.987|           null|              597.029|               9.59|          null|        null|                37.746|                       0.5|          64.83|                  0.511|            null|\n",
      "+--------+---------+-----------+----------+-----------+---------+------------------+------------+----------+-------------------+-----------------------+---------------------+------------------------------+------------------------+----------------------+-------------------------------+-----------------+------------+------------------------+-------------+-------------------------+---------------------+---------------------------------+----------------------+----------------------------------+---------+-----------+------------------------+----------------------+------------------+-------------------------------+-------------+--------------+-----------+------------------+-----------------+-----------------------+----------------+-------------------------+------------------------------+-----------------------------+-----------------------------------+-------------------------------------+----------------+----------+------------------+----------+-------------+-------------+--------------+---------------+---------------------+-------------------+--------------+------------+----------------------+--------------------------+---------------+-----------------------+----------------+\n",
      "only showing top 20 rows\n",
      "\n"
     ]
    }
   ],
   "source": [
    "df_pyspark.show()"
   ]
  },
  {
   "cell_type": "code",
   "execution_count": 23,
   "id": "7e1427cd",
   "metadata": {},
   "outputs": [],
   "source": [
    "df2 = spark.read.csv('movies_data.csv',header= True,inferSchema= True)"
   ]
  },
  {
   "cell_type": "code",
   "execution_count": 24,
   "id": "c8b9b73e",
   "metadata": {},
   "outputs": [
    {
     "name": "stdout",
     "output_type": "stream",
     "text": [
      "+-----------+--------------------+--------------+---------+--------+--------------------+\n",
      "|star_rating|               title|content_rating|    genre|duration|         actors_list|\n",
      "+-----------+--------------------+--------------+---------+--------+--------------------+\n",
      "|        9.3|The Shawshank Red...|             R|    Crime|     142|[u'Tim Robbins', ...|\n",
      "|        9.2|       The Godfather|             R|    Crime|     175|[u'Marlon Brando'...|\n",
      "|        9.1|The Godfather: Pa...|             R|    Crime|     200|[u'Al Pacino', u'...|\n",
      "|        9.0|     The Dark Knight|         PG-13|   Action|     152|[u'Christian Bale...|\n",
      "|        8.9|        Pulp Fiction|             R|    Crime|     154|[u'John Travolta'...|\n",
      "|        8.9|        12 Angry Men|     NOT RATED|    Drama|      96|[u'Henry Fonda', ...|\n",
      "|        8.9|The Good, the Bad...|     NOT RATED|  Western|     161|[u'Clint Eastwood...|\n",
      "|        8.9|The Lord of the R...|         PG-13|Adventure|     201|[u'Elijah Wood', ...|\n",
      "|        8.9|    Schindler's List|             R|Biography|     195|[u'Liam Neeson', ...|\n",
      "|        8.9|          Fight Club|             R|    Drama|     139|[u'Brad Pitt', u'...|\n",
      "|        8.8|The Lord of the R...|         PG-13|Adventure|     178|[u'Elijah Wood', ...|\n",
      "|        8.8|           Inception|         PG-13|   Action|     148|[u'Leonardo DiCap...|\n",
      "|        8.8|Star Wars: Episod...|            PG|   Action|     124|[u'Mark Hamill', ...|\n",
      "|        8.8|        Forrest Gump|         PG-13|    Drama|     142|[u'Tom Hanks', u'...|\n",
      "|        8.8|The Lord of the R...|         PG-13|Adventure|     179|[u'Elijah Wood', ...|\n",
      "|        8.7|        Interstellar|         PG-13|Adventure|     169|[u'Matthew McCona...|\n",
      "|        8.7|One Flew Over the...|             R|    Drama|     133|[u'Jack Nicholson...|\n",
      "|        8.7|       Seven Samurai|       UNRATED|    Drama|     207|[u'Toshir\\xf4 Mif...|\n",
      "|        8.7|          Goodfellas|             R|Biography|     146|[u'Robert De Niro...|\n",
      "|        8.7|           Star Wars|            PG|   Action|     121|[u'Mark Hamill', ...|\n",
      "+-----------+--------------------+--------------+---------+--------+--------------------+\n",
      "only showing top 20 rows\n",
      "\n"
     ]
    }
   ],
   "source": [
    "df2.show()"
   ]
  },
  {
   "cell_type": "code",
   "execution_count": 25,
   "id": "b8fc698d",
   "metadata": {},
   "outputs": [
    {
     "name": "stdout",
     "output_type": "stream",
     "text": [
      "root\n",
      " |-- star_rating: double (nullable = true)\n",
      " |-- title: string (nullable = true)\n",
      " |-- content_rating: string (nullable = true)\n",
      " |-- genre: string (nullable = true)\n",
      " |-- duration: integer (nullable = true)\n",
      " |-- actors_list: string (nullable = true)\n",
      "\n"
     ]
    }
   ],
   "source": [
    "df2.printSchema()"
   ]
  },
  {
   "cell_type": "code",
   "execution_count": 26,
   "id": "ecc11ece",
   "metadata": {},
   "outputs": [
    {
     "data": {
      "text/plain": [
       "pyspark.sql.dataframe.DataFrame"
      ]
     },
     "execution_count": 26,
     "metadata": {},
     "output_type": "execute_result"
    }
   ],
   "source": [
    "type(df2)         # check dataframe type"
   ]
  },
  {
   "cell_type": "code",
   "execution_count": 27,
   "id": "6fa09e90",
   "metadata": {},
   "outputs": [
    {
     "data": {
      "text/plain": [
       "['star_rating', 'title', 'content_rating', 'genre', 'duration', 'actors_list']"
      ]
     },
     "execution_count": 27,
     "metadata": {},
     "output_type": "execute_result"
    }
   ],
   "source": [
    "df2.columns"
   ]
  },
  {
   "cell_type": "code",
   "execution_count": 28,
   "id": "f0da7361",
   "metadata": {},
   "outputs": [
    {
     "data": {
      "text/plain": [
       "979"
      ]
     },
     "execution_count": 28,
     "metadata": {},
     "output_type": "execute_result"
    }
   ],
   "source": [
    "df2.count()"
   ]
  },
  {
   "cell_type": "code",
   "execution_count": 29,
   "id": "4bc6a366",
   "metadata": {},
   "outputs": [
    {
     "data": {
      "text/plain": [
       "DataFrame[summary: string, star_rating: string, title: string, content_rating: string, genre: string, duration: string, actors_list: string]"
      ]
     },
     "execution_count": 29,
     "metadata": {},
     "output_type": "execute_result"
    }
   ],
   "source": [
    "df2.describe()"
   ]
  },
  {
   "cell_type": "code",
   "execution_count": 30,
   "id": "e9fd3b9f",
   "metadata": {},
   "outputs": [
    {
     "data": {
      "text/plain": [
       "Row(star_rating=9.3, title='The Shawshank Redemption', content_rating='R', genre='Crime', duration=142, actors_list=\"[u'Tim Robbins', u'Morgan Freeman', u'Bob Gunton']\")"
      ]
     },
     "execution_count": 30,
     "metadata": {},
     "output_type": "execute_result"
    }
   ],
   "source": [
    "df2.first()"
   ]
  },
  {
   "cell_type": "code",
   "execution_count": 31,
   "id": "c19f7171",
   "metadata": {},
   "outputs": [
    {
     "name": "stdout",
     "output_type": "stream",
     "text": [
      "+-----------+--------------------+--------------+------+--------+--------------------+\n",
      "|star_rating|               title|content_rating| genre|duration|         actors_list|\n",
      "+-----------+--------------------+--------------+------+--------+--------------------+\n",
      "|        9.3|The Shawshank Red...|             R| Crime|     142|[u'Tim Robbins', ...|\n",
      "|        9.2|       The Godfather|             R| Crime|     175|[u'Marlon Brando'...|\n",
      "|        9.1|The Godfather: Pa...|             R| Crime|     200|[u'Al Pacino', u'...|\n",
      "|        9.0|     The Dark Knight|         PG-13|Action|     152|[u'Christian Bale...|\n",
      "|        8.9|        Pulp Fiction|             R| Crime|     154|[u'John Travolta'...|\n",
      "+-----------+--------------------+--------------+------+--------+--------------------+\n",
      "only showing top 5 rows\n",
      "\n"
     ]
    }
   ],
   "source": [
    "df2.show(5)     # show first five rows"
   ]
  },
  {
   "cell_type": "code",
   "execution_count": 36,
   "id": "adac1555",
   "metadata": {},
   "outputs": [
    {
     "data": {
      "text/plain": [
       "Row(star_rating=9.1, title='The Godfather: Part II', content_rating='R', genre='Crime', duration=200, actors_list=\"[u'Al Pacino', u'Robert De Niro', u'Robert Duvall']\")"
      ]
     },
     "execution_count": 36,
     "metadata": {},
     "output_type": "execute_result"
    }
   ],
   "source": [
    "df2.head(5)[2]"
   ]
  },
  {
   "cell_type": "code",
   "execution_count": 38,
   "id": "e53e40c0",
   "metadata": {},
   "outputs": [
    {
     "data": {
      "text/plain": [
       "Row(star_rating=8.8, title='The Lord of the Rings: The Fellowship of the Ring', content_rating='PG-13', genre='Adventure', duration=178, actors_list=\"[u'Elijah Wood', u'Ian McKellen', u'Orlando Bloom']\")"
      ]
     },
     "execution_count": 38,
     "metadata": {},
     "output_type": "execute_result"
    }
   ],
   "source": [
    "df2.collect()[10]"
   ]
  },
  {
   "cell_type": "code",
   "execution_count": 42,
   "id": "8bbbc542",
   "metadata": {},
   "outputs": [
    {
     "name": "stdout",
     "output_type": "stream",
     "text": [
      "+--------------------+--------+\n",
      "|               title|duration|\n",
      "+--------------------+--------+\n",
      "|The Shawshank Red...|     142|\n",
      "|       The Godfather|     175|\n",
      "|The Godfather: Pa...|     200|\n",
      "|     The Dark Knight|     152|\n",
      "|        Pulp Fiction|     154|\n",
      "|        12 Angry Men|      96|\n",
      "|The Good, the Bad...|     161|\n",
      "|The Lord of the R...|     201|\n",
      "|    Schindler's List|     195|\n",
      "|          Fight Club|     139|\n",
      "|The Lord of the R...|     178|\n",
      "|           Inception|     148|\n",
      "|Star Wars: Episod...|     124|\n",
      "|        Forrest Gump|     142|\n",
      "|The Lord of the R...|     179|\n",
      "|        Interstellar|     169|\n",
      "|One Flew Over the...|     133|\n",
      "|       Seven Samurai|     207|\n",
      "|          Goodfellas|     146|\n",
      "|           Star Wars|     121|\n",
      "+--------------------+--------+\n",
      "only showing top 20 rows\n",
      "\n"
     ]
    }
   ],
   "source": [
    "df2.select('title','duration').show()"
   ]
  },
  {
   "cell_type": "code",
   "execution_count": 52,
   "id": "03637e67",
   "metadata": {},
   "outputs": [
    {
     "name": "stdout",
     "output_type": "stream",
     "text": [
      "+-----------+--------------------+--------------+---------+--------+--------------------+\n",
      "|star_rating|               title|content_rating|    genre|duration|         actors_list|\n",
      "+-----------+--------------------+--------------+---------+--------+--------------------+\n",
      "|        9.3|The Shawshank Red...|             R|    Crime|     142|[u'Tim Robbins', ...|\n",
      "|        9.2|       The Godfather|             R|    Crime|     175|[u'Marlon Brando'...|\n",
      "|        9.1|The Godfather: Pa...|             R|    Crime|     200|[u'Al Pacino', u'...|\n",
      "|        9.0|     The Dark Knight|         PG-13|   Action|     152|[u'Christian Bale...|\n",
      "|        8.9|        Pulp Fiction|             R|    Crime|     154|[u'John Travolta'...|\n",
      "|        8.9|        12 Angry Men|     NOT RATED|    Drama|      96|[u'Henry Fonda', ...|\n",
      "|        8.9|The Good, the Bad...|     NOT RATED|  Western|     161|[u'Clint Eastwood...|\n",
      "|        8.9|The Lord of the R...|         PG-13|Adventure|     201|[u'Elijah Wood', ...|\n",
      "|        8.9|    Schindler's List|             R|Biography|     195|[u'Liam Neeson', ...|\n",
      "|        8.9|          Fight Club|             R|    Drama|     139|[u'Brad Pitt', u'...|\n",
      "|        8.8|The Lord of the R...|         PG-13|Adventure|     178|[u'Elijah Wood', ...|\n",
      "|        8.8|           Inception|         PG-13|   Action|     148|[u'Leonardo DiCap...|\n",
      "|        8.8|Star Wars: Episod...|            PG|   Action|     124|[u'Mark Hamill', ...|\n",
      "|        8.8|        Forrest Gump|         PG-13|    Drama|     142|[u'Tom Hanks', u'...|\n",
      "|        8.8|The Lord of the R...|         PG-13|Adventure|     179|[u'Elijah Wood', ...|\n",
      "|        8.7|        Interstellar|         PG-13|Adventure|     169|[u'Matthew McCona...|\n",
      "|        8.7|One Flew Over the...|             R|    Drama|     133|[u'Jack Nicholson...|\n",
      "|        8.7|       Seven Samurai|       UNRATED|    Drama|     207|[u'Toshir\\xf4 Mif...|\n",
      "|        8.7|          Goodfellas|             R|Biography|     146|[u'Robert De Niro...|\n",
      "|        8.7|           Star Wars|            PG|   Action|     121|[u'Mark Hamill', ...|\n",
      "|        8.7|          The Matrix|             R|   Action|     136|[u'Keanu Reeves',...|\n",
      "|        8.7|         City of God|             R|    Crime|     130|[u'Alexandre Rodr...|\n",
      "|        8.7|It's a Wonderful ...|      APPROVED|    Drama|     130|[u'James Stewart'...|\n",
      "|        8.7|  The Usual Suspects|             R|    Crime|     106|[u'Kevin Spacey',...|\n",
      "|        8.7|               Se7en|             R|    Drama|     127|[u'Morgan Freeman...|\n",
      "|        8.6|   Life Is Beautiful|         PG-13|   Comedy|     116|[u'Roberto Benign...|\n",
      "|        8.6|Once Upon a Time ...|         PG-13|  Western|     175|[u'Henry Fonda', ...|\n",
      "|        8.6|The Silence of th...|             R|    Drama|     118|[u'Jodie Foster',...|\n",
      "|        8.6|Leon: The Profess...|             R|    Crime|     110|[u'Jean Reno', u'...|\n",
      "|        8.6|         City Lights|        PASSED|   Comedy|      87|[u'Charles Chapli...|\n",
      "+-----------+--------------------+--------------+---------+--------+--------------------+\n",
      "only showing top 30 rows\n",
      "\n"
     ]
    }
   ],
   "source": [
    "df2.show(30)"
   ]
  },
  {
   "cell_type": "code",
   "execution_count": 51,
   "id": "915dd2f2",
   "metadata": {},
   "outputs": [
    {
     "name": "stdout",
     "output_type": "stream",
     "text": [
      "+--------------------+\n",
      "|               title|\n",
      "+--------------------+\n",
      "|   Life Is Beautiful|\n",
      "|Once Upon a Time ...|\n",
      "|The Silence of th...|\n",
      "|Leon: The Profess...|\n",
      "|         City Lights|\n",
      "|       Spirited Away|\n",
      "|    The Intouchables|\n",
      "|          Casablanca|\n",
      "|            Whiplash|\n",
      "|  American History X|\n",
      "|        Modern Times|\n",
      "| Saving Private Ryan|\n",
      "|Raiders of the Lo...|\n",
      "|         Rear Window|\n",
      "|              Psycho|\n",
      "|      The Green Mile|\n",
      "|        Sunset Blvd.|\n",
      "|         The Pianist|\n",
      "|The Dark Knight R...|\n",
      "|           Gladiator|\n",
      "|Terminator 2: Jud...|\n",
      "|             Memento|\n",
      "|    Taare Zameen Par|\n",
      "|Dr. Strangelove o...|\n",
      "|        The Departed|\n",
      "|     Cinema Paradiso|\n",
      "|      Apocalypse Now|\n",
      "|  The Great Dictator|\n",
      "|        The Prestige|\n",
      "|  Back to the Future|\n",
      "|       The Lion King|\n",
      "| The Lives of Others|\n",
      "|               Alien|\n",
      "|      Paths of Glory|\n",
      "|    Django Unchained|\n",
      "|            3 Idiots|\n",
      "|Grave of the Fire...|\n",
      "|         The Shining|\n",
      "|                   M|\n",
      "|              WALL-E|\n",
      "|Witness for the P...|\n",
      "| Munna Bhai M.B.B.S.|\n",
      "|     American Beauty|\n",
      "|            Das Boot|\n",
      "|   Princess Mononoke|\n",
      "|              Amelie|\n",
      "|  North by Northwest|\n",
      "|     Rang De Basanti|\n",
      "|Jodaeiye Nader az...|\n",
      "|        Citizen Kane|\n",
      "+--------------------+\n",
      "only showing top 50 rows\n",
      "\n"
     ]
    }
   ],
   "source": [
    "df2.select('star_rating','title').filter('star_rating<8.7').select('title').show(50)"
   ]
  },
  {
   "cell_type": "code",
   "execution_count": 55,
   "id": "2f292f37",
   "metadata": {},
   "outputs": [
    {
     "data": {
      "text/plain": [
       "16"
      ]
     },
     "execution_count": 55,
     "metadata": {},
     "output_type": "execute_result"
    }
   ],
   "source": [
    "df2.select('genre').distinct().count()      # show unique values"
   ]
  },
  {
   "cell_type": "code",
   "execution_count": 57,
   "id": "96624592",
   "metadata": {},
   "outputs": [
    {
     "name": "stdout",
     "output_type": "stream",
     "text": [
      "+-------+-------+\n",
      "|summary|  genre|\n",
      "+-------+-------+\n",
      "|  count|    979|\n",
      "|   mean|   null|\n",
      "| stddev|   null|\n",
      "|    min| Action|\n",
      "|    max|Western|\n",
      "+-------+-------+\n",
      "\n"
     ]
    }
   ],
   "source": [
    "df2.describe('genre').show()"
   ]
  },
  {
   "cell_type": "code",
   "execution_count": 61,
   "id": "1fed66f8",
   "metadata": {},
   "outputs": [
    {
     "data": {
      "text/html": [
       "<div>\n",
       "<style scoped>\n",
       "    .dataframe tbody tr th:only-of-type {\n",
       "        vertical-align: middle;\n",
       "    }\n",
       "\n",
       "    .dataframe tbody tr th {\n",
       "        vertical-align: top;\n",
       "    }\n",
       "\n",
       "    .dataframe thead th {\n",
       "        text-align: right;\n",
       "    }\n",
       "</style>\n",
       "<table border=\"1\" class=\"dataframe\">\n",
       "  <thead>\n",
       "    <tr style=\"text-align: right;\">\n",
       "      <th></th>\n",
       "      <th>genre</th>\n",
       "      <th>count</th>\n",
       "    </tr>\n",
       "  </thead>\n",
       "  <tbody>\n",
       "    <tr>\n",
       "      <th>0</th>\n",
       "      <td>Crime</td>\n",
       "      <td>124</td>\n",
       "    </tr>\n",
       "    <tr>\n",
       "      <th>1</th>\n",
       "      <td>Thriller</td>\n",
       "      <td>5</td>\n",
       "    </tr>\n",
       "    <tr>\n",
       "      <th>2</th>\n",
       "      <td>Adventure</td>\n",
       "      <td>75</td>\n",
       "    </tr>\n",
       "    <tr>\n",
       "      <th>3</th>\n",
       "      <td>Drama</td>\n",
       "      <td>278</td>\n",
       "    </tr>\n",
       "    <tr>\n",
       "      <th>4</th>\n",
       "      <td>Family</td>\n",
       "      <td>2</td>\n",
       "    </tr>\n",
       "    <tr>\n",
       "      <th>5</th>\n",
       "      <td>Fantasy</td>\n",
       "      <td>1</td>\n",
       "    </tr>\n",
       "    <tr>\n",
       "      <th>6</th>\n",
       "      <td>History</td>\n",
       "      <td>1</td>\n",
       "    </tr>\n",
       "    <tr>\n",
       "      <th>7</th>\n",
       "      <td>Mystery</td>\n",
       "      <td>16</td>\n",
       "    </tr>\n",
       "    <tr>\n",
       "      <th>8</th>\n",
       "      <td>Animation</td>\n",
       "      <td>62</td>\n",
       "    </tr>\n",
       "    <tr>\n",
       "      <th>9</th>\n",
       "      <td>Film-Noir</td>\n",
       "      <td>3</td>\n",
       "    </tr>\n",
       "    <tr>\n",
       "      <th>10</th>\n",
       "      <td>Horror</td>\n",
       "      <td>29</td>\n",
       "    </tr>\n",
       "    <tr>\n",
       "      <th>11</th>\n",
       "      <td>Western</td>\n",
       "      <td>9</td>\n",
       "    </tr>\n",
       "    <tr>\n",
       "      <th>12</th>\n",
       "      <td>Biography</td>\n",
       "      <td>77</td>\n",
       "    </tr>\n",
       "    <tr>\n",
       "      <th>13</th>\n",
       "      <td>Comedy</td>\n",
       "      <td>156</td>\n",
       "    </tr>\n",
       "    <tr>\n",
       "      <th>14</th>\n",
       "      <td>Action</td>\n",
       "      <td>136</td>\n",
       "    </tr>\n",
       "    <tr>\n",
       "      <th>15</th>\n",
       "      <td>Sci-Fi</td>\n",
       "      <td>5</td>\n",
       "    </tr>\n",
       "  </tbody>\n",
       "</table>\n",
       "</div>"
      ],
      "text/plain": [
       "        genre  count\n",
       "0       Crime    124\n",
       "1    Thriller      5\n",
       "2   Adventure     75\n",
       "3       Drama    278\n",
       "4      Family      2\n",
       "5     Fantasy      1\n",
       "6     History      1\n",
       "7     Mystery     16\n",
       "8   Animation     62\n",
       "9   Film-Noir      3\n",
       "10     Horror     29\n",
       "11    Western      9\n",
       "12  Biography     77\n",
       "13     Comedy    156\n",
       "14     Action    136\n",
       "15     Sci-Fi      5"
      ]
     },
     "execution_count": 61,
     "metadata": {},
     "output_type": "execute_result"
    }
   ],
   "source": [
    "df2.groupby('genre').count().toPandas()"
   ]
  },
  {
   "cell_type": "code",
   "execution_count": 62,
   "id": "8366e127",
   "metadata": {},
   "outputs": [
    {
     "data": {
      "text/plain": [
       "979"
      ]
     },
     "execution_count": 62,
     "metadata": {},
     "output_type": "execute_result"
    }
   ],
   "source": [
    "df2.count()"
   ]
  },
  {
   "cell_type": "code",
   "execution_count": 65,
   "id": "f3ded7da",
   "metadata": {},
   "outputs": [
    {
     "name": "stdout",
     "output_type": "stream",
     "text": [
      "+-----------+--------------------+--------------+---------+--------+--------------------+\n",
      "|star_rating|               title|content_rating|    genre|duration|         actors_list|\n",
      "+-----------+--------------------+--------------+---------+--------+--------------------+\n",
      "|        9.3|The Shawshank Red...|             R|    Crime|     142|[u'Tim Robbins', ...|\n",
      "|        9.2|       The Godfather|             R|    Crime|     175|[u'Marlon Brando'...|\n",
      "|        9.1|The Godfather: Pa...|             R|    Crime|     200|[u'Al Pacino', u'...|\n",
      "|        9.0|     The Dark Knight|         PG-13|   Action|     152|[u'Christian Bale...|\n",
      "|        8.9|        Pulp Fiction|             R|    Crime|     154|[u'John Travolta'...|\n",
      "|        8.9|        12 Angry Men|     NOT RATED|    Drama|      96|[u'Henry Fonda', ...|\n",
      "|        8.9|The Good, the Bad...|     NOT RATED|  Western|     161|[u'Clint Eastwood...|\n",
      "|        8.9|The Lord of the R...|         PG-13|Adventure|     201|[u'Elijah Wood', ...|\n",
      "|        8.9|    Schindler's List|             R|Biography|     195|[u'Liam Neeson', ...|\n",
      "|        8.9|          Fight Club|             R|    Drama|     139|[u'Brad Pitt', u'...|\n",
      "|        8.8|The Lord of the R...|         PG-13|Adventure|     178|[u'Elijah Wood', ...|\n",
      "|        8.8|           Inception|         PG-13|   Action|     148|[u'Leonardo DiCap...|\n",
      "|        8.8|Star Wars: Episod...|            PG|   Action|     124|[u'Mark Hamill', ...|\n",
      "|        8.8|        Forrest Gump|         PG-13|    Drama|     142|[u'Tom Hanks', u'...|\n",
      "|        8.8|The Lord of the R...|         PG-13|Adventure|     179|[u'Elijah Wood', ...|\n",
      "|        8.7|        Interstellar|         PG-13|Adventure|     169|[u'Matthew McCona...|\n",
      "|        8.7|One Flew Over the...|             R|    Drama|     133|[u'Jack Nicholson...|\n",
      "|        8.7|       Seven Samurai|       UNRATED|    Drama|     207|[u'Toshir\\xf4 Mif...|\n",
      "|        8.7|          Goodfellas|             R|Biography|     146|[u'Robert De Niro...|\n",
      "|        8.7|           Star Wars|            PG|   Action|     121|[u'Mark Hamill', ...|\n",
      "+-----------+--------------------+--------------+---------+--------+--------------------+\n",
      "only showing top 20 rows\n",
      "\n"
     ]
    }
   ],
   "source": [
    "df2.dropna().show()"
   ]
  },
  {
   "cell_type": "code",
   "execution_count": 66,
   "id": "ea64f018",
   "metadata": {},
   "outputs": [
    {
     "data": {
      "text/html": [
       "<div>\n",
       "<style scoped>\n",
       "    .dataframe tbody tr th:only-of-type {\n",
       "        vertical-align: middle;\n",
       "    }\n",
       "\n",
       "    .dataframe tbody tr th {\n",
       "        vertical-align: top;\n",
       "    }\n",
       "\n",
       "    .dataframe thead th {\n",
       "        text-align: right;\n",
       "    }\n",
       "</style>\n",
       "<table border=\"1\" class=\"dataframe\">\n",
       "  <thead>\n",
       "    <tr style=\"text-align: right;\">\n",
       "      <th></th>\n",
       "      <th>star_rating</th>\n",
       "      <th>title</th>\n",
       "      <th>content_rating</th>\n",
       "      <th>genre</th>\n",
       "      <th>duration</th>\n",
       "      <th>actors_list</th>\n",
       "    </tr>\n",
       "  </thead>\n",
       "  <tbody>\n",
       "    <tr>\n",
       "      <th>0</th>\n",
       "      <td>9.3</td>\n",
       "      <td>The Shawshank Redemption</td>\n",
       "      <td>R</td>\n",
       "      <td>Crime</td>\n",
       "      <td>142</td>\n",
       "      <td>[u'Tim Robbins', u'Morgan Freeman', u'Bob Gunt...</td>\n",
       "    </tr>\n",
       "    <tr>\n",
       "      <th>1</th>\n",
       "      <td>9.2</td>\n",
       "      <td>The Godfather</td>\n",
       "      <td>R</td>\n",
       "      <td>Crime</td>\n",
       "      <td>175</td>\n",
       "      <td>[u'Marlon Brando', u'Al Pacino', u'James Caan']</td>\n",
       "    </tr>\n",
       "    <tr>\n",
       "      <th>2</th>\n",
       "      <td>9.1</td>\n",
       "      <td>The Godfather: Part II</td>\n",
       "      <td>R</td>\n",
       "      <td>Crime</td>\n",
       "      <td>200</td>\n",
       "      <td>[u'Al Pacino', u'Robert De Niro', u'Robert Duv...</td>\n",
       "    </tr>\n",
       "    <tr>\n",
       "      <th>3</th>\n",
       "      <td>9.0</td>\n",
       "      <td>The Dark Knight</td>\n",
       "      <td>PG-13</td>\n",
       "      <td>Action</td>\n",
       "      <td>152</td>\n",
       "      <td>[u'Christian Bale', u'Heath Ledger', u'Aaron E...</td>\n",
       "    </tr>\n",
       "    <tr>\n",
       "      <th>4</th>\n",
       "      <td>8.9</td>\n",
       "      <td>Pulp Fiction</td>\n",
       "      <td>R</td>\n",
       "      <td>Crime</td>\n",
       "      <td>154</td>\n",
       "      <td>[u'John Travolta', u'Uma Thurman', u'Samuel L....</td>\n",
       "    </tr>\n",
       "    <tr>\n",
       "      <th>...</th>\n",
       "      <td>...</td>\n",
       "      <td>...</td>\n",
       "      <td>...</td>\n",
       "      <td>...</td>\n",
       "      <td>...</td>\n",
       "      <td>...</td>\n",
       "    </tr>\n",
       "    <tr>\n",
       "      <th>974</th>\n",
       "      <td>7.4</td>\n",
       "      <td>Tootsie</td>\n",
       "      <td>PG</td>\n",
       "      <td>Comedy</td>\n",
       "      <td>116</td>\n",
       "      <td>[u'Dustin Hoffman', u'Jessica Lange', u'Teri G...</td>\n",
       "    </tr>\n",
       "    <tr>\n",
       "      <th>975</th>\n",
       "      <td>7.4</td>\n",
       "      <td>Back to the Future Part III</td>\n",
       "      <td>PG</td>\n",
       "      <td>Adventure</td>\n",
       "      <td>118</td>\n",
       "      <td>[u'Michael J. Fox', u'Christopher Lloyd', u'Ma...</td>\n",
       "    </tr>\n",
       "    <tr>\n",
       "      <th>976</th>\n",
       "      <td>7.4</td>\n",
       "      <td>Master and Commander: The Far Side of the World</td>\n",
       "      <td>PG-13</td>\n",
       "      <td>Action</td>\n",
       "      <td>138</td>\n",
       "      <td>[u'Russell Crowe', u'Paul Bettany', u'Billy Bo...</td>\n",
       "    </tr>\n",
       "    <tr>\n",
       "      <th>977</th>\n",
       "      <td>7.4</td>\n",
       "      <td>Poltergeist</td>\n",
       "      <td>PG</td>\n",
       "      <td>Horror</td>\n",
       "      <td>114</td>\n",
       "      <td>\"[u'JoBeth Williams', u\"\"Heather O'Rourke\"\"</td>\n",
       "    </tr>\n",
       "    <tr>\n",
       "      <th>978</th>\n",
       "      <td>7.4</td>\n",
       "      <td>Wall Street</td>\n",
       "      <td>R</td>\n",
       "      <td>Crime</td>\n",
       "      <td>126</td>\n",
       "      <td>[u'Charlie Sheen', u'Michael Douglas', u'Tamar...</td>\n",
       "    </tr>\n",
       "  </tbody>\n",
       "</table>\n",
       "<p>979 rows × 6 columns</p>\n",
       "</div>"
      ],
      "text/plain": [
       "     star_rating                                            title  \\\n",
       "0            9.3                         The Shawshank Redemption   \n",
       "1            9.2                                    The Godfather   \n",
       "2            9.1                           The Godfather: Part II   \n",
       "3            9.0                                  The Dark Knight   \n",
       "4            8.9                                     Pulp Fiction   \n",
       "..           ...                                              ...   \n",
       "974          7.4                                          Tootsie   \n",
       "975          7.4                      Back to the Future Part III   \n",
       "976          7.4  Master and Commander: The Far Side of the World   \n",
       "977          7.4                                      Poltergeist   \n",
       "978          7.4                                      Wall Street   \n",
       "\n",
       "    content_rating      genre  duration  \\\n",
       "0                R      Crime       142   \n",
       "1                R      Crime       175   \n",
       "2                R      Crime       200   \n",
       "3            PG-13     Action       152   \n",
       "4                R      Crime       154   \n",
       "..             ...        ...       ...   \n",
       "974             PG     Comedy       116   \n",
       "975             PG  Adventure       118   \n",
       "976          PG-13     Action       138   \n",
       "977             PG     Horror       114   \n",
       "978              R      Crime       126   \n",
       "\n",
       "                                           actors_list  \n",
       "0    [u'Tim Robbins', u'Morgan Freeman', u'Bob Gunt...  \n",
       "1      [u'Marlon Brando', u'Al Pacino', u'James Caan']  \n",
       "2    [u'Al Pacino', u'Robert De Niro', u'Robert Duv...  \n",
       "3    [u'Christian Bale', u'Heath Ledger', u'Aaron E...  \n",
       "4    [u'John Travolta', u'Uma Thurman', u'Samuel L....  \n",
       "..                                                 ...  \n",
       "974  [u'Dustin Hoffman', u'Jessica Lange', u'Teri G...  \n",
       "975  [u'Michael J. Fox', u'Christopher Lloyd', u'Ma...  \n",
       "976  [u'Russell Crowe', u'Paul Bettany', u'Billy Bo...  \n",
       "977        \"[u'JoBeth Williams', u\"\"Heather O'Rourke\"\"  \n",
       "978  [u'Charlie Sheen', u'Michael Douglas', u'Tamar...  \n",
       "\n",
       "[979 rows x 6 columns]"
      ]
     },
     "execution_count": 66,
     "metadata": {},
     "output_type": "execute_result"
    }
   ],
   "source": [
    "df2.toPandas()                          # convert pyspark dataframe into pandas dataframe"
   ]
  },
  {
   "cell_type": "code",
   "execution_count": 68,
   "id": "ad7c64ff",
   "metadata": {},
   "outputs": [
    {
     "name": "stdout",
     "output_type": "stream",
     "text": [
      "+-----------+--------------------+--------------+---------+--------+--------------------+\n",
      "|star_rating|               title|content_rating|    genre|duration|         actors_list|\n",
      "+-----------+--------------------+--------------+---------+--------+--------------------+\n",
      "|        9.3|The Shawshank Red...|             R|    Crime|     142|[u'Tim Robbins', ...|\n",
      "|        9.2|       The Godfather|             R|    Crime|     175|[u'Marlon Brando'...|\n",
      "|        9.1|The Godfather: Pa...|             R|    Crime|     200|[u'Al Pacino', u'...|\n",
      "|        9.0|     The Dark Knight|         PG-13|   Action|     152|[u'Christian Bale...|\n",
      "|        8.9|        Pulp Fiction|             R|    Crime|     154|[u'John Travolta'...|\n",
      "|        8.9|        12 Angry Men|     NOT RATED|    Drama|      96|[u'Henry Fonda', ...|\n",
      "|        8.9|The Good, the Bad...|     NOT RATED|  Western|     161|[u'Clint Eastwood...|\n",
      "|        8.9|The Lord of the R...|         PG-13|Adventure|     201|[u'Elijah Wood', ...|\n",
      "|        8.9|    Schindler's List|             R|Biography|     195|[u'Liam Neeson', ...|\n",
      "|        8.9|          Fight Club|             R|    Drama|     139|[u'Brad Pitt', u'...|\n",
      "|        8.8|The Lord of the R...|         PG-13|Adventure|     178|[u'Elijah Wood', ...|\n",
      "|        8.8|           Inception|         PG-13|   Action|     148|[u'Leonardo DiCap...|\n",
      "|        8.8|Star Wars: Episod...|            PG|   Action|     124|[u'Mark Hamill', ...|\n",
      "|        8.8|        Forrest Gump|         PG-13|    Drama|     142|[u'Tom Hanks', u'...|\n",
      "|        8.8|The Lord of the R...|         PG-13|Adventure|     179|[u'Elijah Wood', ...|\n",
      "|        8.7|        Interstellar|         PG-13|Adventure|     169|[u'Matthew McCona...|\n",
      "|        8.7|One Flew Over the...|             R|    Drama|     133|[u'Jack Nicholson...|\n",
      "|        8.7|       Seven Samurai|       UNRATED|    Drama|     207|[u'Toshir\\xf4 Mif...|\n",
      "|        8.7|          Goodfellas|             R|Biography|     146|[u'Robert De Niro...|\n",
      "|        8.7|           Star Wars|            PG|   Action|     121|[u'Mark Hamill', ...|\n",
      "+-----------+--------------------+--------------+---------+--------+--------------------+\n",
      "only showing top 20 rows\n",
      "\n"
     ]
    }
   ],
   "source": [
    "df2.dropna('any').show()"
   ]
  },
  {
   "cell_type": "code",
   "execution_count": 63,
   "id": "f7ebfd06",
   "metadata": {},
   "outputs": [],
   "source": [
    "import pyspark as ps"
   ]
  },
  {
   "cell_type": "code",
   "execution_count": 64,
   "id": "8c869918",
   "metadata": {},
   "outputs": [],
   "source": [
    "spark = ps.sql.SparkSession.builder.getOrCreate()"
   ]
  },
  {
   "cell_type": "code",
   "execution_count": 65,
   "id": "07050f04",
   "metadata": {},
   "outputs": [],
   "source": [
    "df3 = spark.read.csv('movies_data.csv',header = True,inferSchema = True)"
   ]
  },
  {
   "cell_type": "code",
   "execution_count": 7,
   "id": "d155ee65",
   "metadata": {},
   "outputs": [
    {
     "name": "stdout",
     "output_type": "stream",
     "text": [
      "+-----------+--------------------+--------------+---------+--------+--------------------+\n",
      "|star_rating|               title|content_rating|    genre|duration|         actors_list|\n",
      "+-----------+--------------------+--------------+---------+--------+--------------------+\n",
      "|        9.3|The Shawshank Red...|             R|    Crime|     142|[u'Tim Robbins', ...|\n",
      "|        9.2|       The Godfather|             R|    Crime|     175|[u'Marlon Brando'...|\n",
      "|        9.1|The Godfather: Pa...|             R|    Crime|     200|[u'Al Pacino', u'...|\n",
      "|        9.0|     The Dark Knight|         PG-13|   Action|     152|[u'Christian Bale...|\n",
      "|        8.9|        Pulp Fiction|             R|    Crime|     154|[u'John Travolta'...|\n",
      "|        8.9|        12 Angry Men|     NOT RATED|    Drama|      96|[u'Henry Fonda', ...|\n",
      "|        8.9|The Good, the Bad...|     NOT RATED|  Western|     161|[u'Clint Eastwood...|\n",
      "|        8.9|The Lord of the R...|         PG-13|Adventure|     201|[u'Elijah Wood', ...|\n",
      "|        8.9|    Schindler's List|             R|Biography|     195|[u'Liam Neeson', ...|\n",
      "|        8.9|          Fight Club|             R|    Drama|     139|[u'Brad Pitt', u'...|\n",
      "|        8.8|The Lord of the R...|         PG-13|Adventure|     178|[u'Elijah Wood', ...|\n",
      "|        8.8|           Inception|         PG-13|   Action|     148|[u'Leonardo DiCap...|\n",
      "|        8.8|Star Wars: Episod...|            PG|   Action|     124|[u'Mark Hamill', ...|\n",
      "|        8.8|        Forrest Gump|         PG-13|    Drama|     142|[u'Tom Hanks', u'...|\n",
      "|        8.8|The Lord of the R...|         PG-13|Adventure|     179|[u'Elijah Wood', ...|\n",
      "|        8.7|        Interstellar|         PG-13|Adventure|     169|[u'Matthew McCona...|\n",
      "|        8.7|One Flew Over the...|             R|    Drama|     133|[u'Jack Nicholson...|\n",
      "|        8.7|       Seven Samurai|       UNRATED|    Drama|     207|[u'Toshir\\xf4 Mif...|\n",
      "|        8.7|          Goodfellas|             R|Biography|     146|[u'Robert De Niro...|\n",
      "|        8.7|           Star Wars|            PG|   Action|     121|[u'Mark Hamill', ...|\n",
      "+-----------+--------------------+--------------+---------+--------+--------------------+\n",
      "only showing top 20 rows\n",
      "\n"
     ]
    }
   ],
   "source": [
    "df3.show()"
   ]
  },
  {
   "cell_type": "code",
   "execution_count": 8,
   "id": "e8834088",
   "metadata": {},
   "outputs": [
    {
     "name": "stdout",
     "output_type": "stream",
     "text": [
      "+-----------+--------------------+--------------+---------+--------+--------------------+\n",
      "|star_rating|               title|content_rating|    genre|duration|         actors_list|\n",
      "+-----------+--------------------+--------------+---------+--------+--------------------+\n",
      "|        9.3|The Shawshank Red...|             R|    Crime|     142|[u'Tim Robbins', ...|\n",
      "|        9.2|       The Godfather|             R|    Crime|     175|[u'Marlon Brando'...|\n",
      "|        9.1|The Godfather: Pa...|             R|    Crime|     200|[u'Al Pacino', u'...|\n",
      "|        9.0|     The Dark Knight|         PG-13|   Action|     152|[u'Christian Bale...|\n",
      "|        8.9|        Pulp Fiction|             R|    Crime|     154|[u'John Travolta'...|\n",
      "|        8.9|        12 Angry Men|     NOT RATED|    Drama|      96|[u'Henry Fonda', ...|\n",
      "|        8.9|The Good, the Bad...|     NOT RATED|  Western|     161|[u'Clint Eastwood...|\n",
      "|        8.9|The Lord of the R...|         PG-13|Adventure|     201|[u'Elijah Wood', ...|\n",
      "|        8.9|    Schindler's List|             R|Biography|     195|[u'Liam Neeson', ...|\n",
      "|        8.9|          Fight Club|             R|    Drama|     139|[u'Brad Pitt', u'...|\n",
      "|        8.8|The Lord of the R...|         PG-13|Adventure|     178|[u'Elijah Wood', ...|\n",
      "|        8.8|           Inception|         PG-13|   Action|     148|[u'Leonardo DiCap...|\n",
      "|        8.8|Star Wars: Episod...|            PG|   Action|     124|[u'Mark Hamill', ...|\n",
      "|        8.8|        Forrest Gump|         PG-13|    Drama|     142|[u'Tom Hanks', u'...|\n",
      "|        8.8|The Lord of the R...|         PG-13|Adventure|     179|[u'Elijah Wood', ...|\n",
      "|        8.7|        Interstellar|         PG-13|Adventure|     169|[u'Matthew McCona...|\n",
      "|        8.7|One Flew Over the...|             R|    Drama|     133|[u'Jack Nicholson...|\n",
      "|        8.7|       Seven Samurai|       UNRATED|    Drama|     207|[u'Toshir\\xf4 Mif...|\n",
      "|        8.7|          Goodfellas|             R|Biography|     146|[u'Robert De Niro...|\n",
      "|        8.7|           Star Wars|            PG|   Action|     121|[u'Mark Hamill', ...|\n",
      "+-----------+--------------------+--------------+---------+--------+--------------------+\n",
      "only showing top 20 rows\n",
      "\n"
     ]
    }
   ],
   "source": [
    "df3.dropna().show()                          # delete duplicate value"
   ]
  },
  {
   "cell_type": "code",
   "execution_count": 10,
   "id": "de418b8d",
   "metadata": {},
   "outputs": [
    {
     "name": "stdout",
     "output_type": "stream",
     "text": [
      "+-----------+--------------------+--------------+---------+--------+--------------------+\n",
      "|star_rating|               title|content_rating|    genre|duration|         actors_list|\n",
      "+-----------+--------------------+--------------+---------+--------+--------------------+\n",
      "|        9.3|The Shawshank Red...|             R|    Crime|     142|[u'Tim Robbins', ...|\n",
      "|        9.2|       The Godfather|             R|    Crime|     175|[u'Marlon Brando'...|\n",
      "|        9.1|The Godfather: Pa...|             R|    Crime|     200|[u'Al Pacino', u'...|\n",
      "|        9.0|     The Dark Knight|         PG-13|   Action|     152|[u'Christian Bale...|\n",
      "|        8.9|        Pulp Fiction|             R|    Crime|     154|[u'John Travolta'...|\n",
      "|        8.9|        12 Angry Men|     NOT RATED|    Drama|      96|[u'Henry Fonda', ...|\n",
      "|        8.9|The Good, the Bad...|     NOT RATED|  Western|     161|[u'Clint Eastwood...|\n",
      "|        8.9|The Lord of the R...|         PG-13|Adventure|     201|[u'Elijah Wood', ...|\n",
      "|        8.9|    Schindler's List|             R|Biography|     195|[u'Liam Neeson', ...|\n",
      "|        8.9|          Fight Club|             R|    Drama|     139|[u'Brad Pitt', u'...|\n",
      "|        8.8|The Lord of the R...|         PG-13|Adventure|     178|[u'Elijah Wood', ...|\n",
      "|        8.8|           Inception|         PG-13|   Action|     148|[u'Leonardo DiCap...|\n",
      "|        8.8|Star Wars: Episod...|            PG|   Action|     124|[u'Mark Hamill', ...|\n",
      "|        8.8|        Forrest Gump|         PG-13|    Drama|     142|[u'Tom Hanks', u'...|\n",
      "|        8.8|The Lord of the R...|         PG-13|Adventure|     179|[u'Elijah Wood', ...|\n",
      "|        8.7|        Interstellar|         PG-13|Adventure|     169|[u'Matthew McCona...|\n",
      "|        8.7|One Flew Over the...|             R|    Drama|     133|[u'Jack Nicholson...|\n",
      "|        8.7|       Seven Samurai|       UNRATED|    Drama|     207|[u'Toshir\\xf4 Mif...|\n",
      "|        8.7|          Goodfellas|             R|Biography|     146|[u'Robert De Niro...|\n",
      "|        8.7|           Star Wars|            PG|   Action|     121|[u'Mark Hamill', ...|\n",
      "+-----------+--------------------+--------------+---------+--------+--------------------+\n",
      "only showing top 20 rows\n",
      "\n"
     ]
    }
   ],
   "source": [
    "df3.dropna('any').show()"
   ]
  },
  {
   "cell_type": "code",
   "execution_count": 11,
   "id": "c53151a9",
   "metadata": {},
   "outputs": [],
   "source": [
    "df4= df3.toPandas()                      # convert pyspark dataframe into pandas dataframe"
   ]
  },
  {
   "cell_type": "code",
   "execution_count": 12,
   "id": "fd52191a",
   "metadata": {},
   "outputs": [
    {
     "data": {
      "text/html": [
       "<div>\n",
       "<style scoped>\n",
       "    .dataframe tbody tr th:only-of-type {\n",
       "        vertical-align: middle;\n",
       "    }\n",
       "\n",
       "    .dataframe tbody tr th {\n",
       "        vertical-align: top;\n",
       "    }\n",
       "\n",
       "    .dataframe thead th {\n",
       "        text-align: right;\n",
       "    }\n",
       "</style>\n",
       "<table border=\"1\" class=\"dataframe\">\n",
       "  <thead>\n",
       "    <tr style=\"text-align: right;\">\n",
       "      <th></th>\n",
       "      <th>star_rating</th>\n",
       "      <th>title</th>\n",
       "      <th>content_rating</th>\n",
       "      <th>genre</th>\n",
       "      <th>duration</th>\n",
       "      <th>actors_list</th>\n",
       "    </tr>\n",
       "  </thead>\n",
       "  <tbody>\n",
       "    <tr>\n",
       "      <th>0</th>\n",
       "      <td>9.3</td>\n",
       "      <td>The Shawshank Redemption</td>\n",
       "      <td>R</td>\n",
       "      <td>Crime</td>\n",
       "      <td>142</td>\n",
       "      <td>[u'Tim Robbins', u'Morgan Freeman', u'Bob Gunt...</td>\n",
       "    </tr>\n",
       "    <tr>\n",
       "      <th>1</th>\n",
       "      <td>9.2</td>\n",
       "      <td>The Godfather</td>\n",
       "      <td>R</td>\n",
       "      <td>Crime</td>\n",
       "      <td>175</td>\n",
       "      <td>[u'Marlon Brando', u'Al Pacino', u'James Caan']</td>\n",
       "    </tr>\n",
       "    <tr>\n",
       "      <th>2</th>\n",
       "      <td>9.1</td>\n",
       "      <td>The Godfather: Part II</td>\n",
       "      <td>R</td>\n",
       "      <td>Crime</td>\n",
       "      <td>200</td>\n",
       "      <td>[u'Al Pacino', u'Robert De Niro', u'Robert Duv...</td>\n",
       "    </tr>\n",
       "    <tr>\n",
       "      <th>3</th>\n",
       "      <td>9.0</td>\n",
       "      <td>The Dark Knight</td>\n",
       "      <td>PG-13</td>\n",
       "      <td>Action</td>\n",
       "      <td>152</td>\n",
       "      <td>[u'Christian Bale', u'Heath Ledger', u'Aaron E...</td>\n",
       "    </tr>\n",
       "    <tr>\n",
       "      <th>4</th>\n",
       "      <td>8.9</td>\n",
       "      <td>Pulp Fiction</td>\n",
       "      <td>R</td>\n",
       "      <td>Crime</td>\n",
       "      <td>154</td>\n",
       "      <td>[u'John Travolta', u'Uma Thurman', u'Samuel L....</td>\n",
       "    </tr>\n",
       "    <tr>\n",
       "      <th>...</th>\n",
       "      <td>...</td>\n",
       "      <td>...</td>\n",
       "      <td>...</td>\n",
       "      <td>...</td>\n",
       "      <td>...</td>\n",
       "      <td>...</td>\n",
       "    </tr>\n",
       "    <tr>\n",
       "      <th>974</th>\n",
       "      <td>7.4</td>\n",
       "      <td>Tootsie</td>\n",
       "      <td>PG</td>\n",
       "      <td>Comedy</td>\n",
       "      <td>116</td>\n",
       "      <td>[u'Dustin Hoffman', u'Jessica Lange', u'Teri G...</td>\n",
       "    </tr>\n",
       "    <tr>\n",
       "      <th>975</th>\n",
       "      <td>7.4</td>\n",
       "      <td>Back to the Future Part III</td>\n",
       "      <td>PG</td>\n",
       "      <td>Adventure</td>\n",
       "      <td>118</td>\n",
       "      <td>[u'Michael J. Fox', u'Christopher Lloyd', u'Ma...</td>\n",
       "    </tr>\n",
       "    <tr>\n",
       "      <th>976</th>\n",
       "      <td>7.4</td>\n",
       "      <td>Master and Commander: The Far Side of the World</td>\n",
       "      <td>PG-13</td>\n",
       "      <td>Action</td>\n",
       "      <td>138</td>\n",
       "      <td>[u'Russell Crowe', u'Paul Bettany', u'Billy Bo...</td>\n",
       "    </tr>\n",
       "    <tr>\n",
       "      <th>977</th>\n",
       "      <td>7.4</td>\n",
       "      <td>Poltergeist</td>\n",
       "      <td>PG</td>\n",
       "      <td>Horror</td>\n",
       "      <td>114</td>\n",
       "      <td>\"[u'JoBeth Williams', u\"\"Heather O'Rourke\"\"</td>\n",
       "    </tr>\n",
       "    <tr>\n",
       "      <th>978</th>\n",
       "      <td>7.4</td>\n",
       "      <td>Wall Street</td>\n",
       "      <td>R</td>\n",
       "      <td>Crime</td>\n",
       "      <td>126</td>\n",
       "      <td>[u'Charlie Sheen', u'Michael Douglas', u'Tamar...</td>\n",
       "    </tr>\n",
       "  </tbody>\n",
       "</table>\n",
       "<p>979 rows × 6 columns</p>\n",
       "</div>"
      ],
      "text/plain": [
       "     star_rating                                            title  \\\n",
       "0            9.3                         The Shawshank Redemption   \n",
       "1            9.2                                    The Godfather   \n",
       "2            9.1                           The Godfather: Part II   \n",
       "3            9.0                                  The Dark Knight   \n",
       "4            8.9                                     Pulp Fiction   \n",
       "..           ...                                              ...   \n",
       "974          7.4                                          Tootsie   \n",
       "975          7.4                      Back to the Future Part III   \n",
       "976          7.4  Master and Commander: The Far Side of the World   \n",
       "977          7.4                                      Poltergeist   \n",
       "978          7.4                                      Wall Street   \n",
       "\n",
       "    content_rating      genre  duration  \\\n",
       "0                R      Crime       142   \n",
       "1                R      Crime       175   \n",
       "2                R      Crime       200   \n",
       "3            PG-13     Action       152   \n",
       "4                R      Crime       154   \n",
       "..             ...        ...       ...   \n",
       "974             PG     Comedy       116   \n",
       "975             PG  Adventure       118   \n",
       "976          PG-13     Action       138   \n",
       "977             PG     Horror       114   \n",
       "978              R      Crime       126   \n",
       "\n",
       "                                           actors_list  \n",
       "0    [u'Tim Robbins', u'Morgan Freeman', u'Bob Gunt...  \n",
       "1      [u'Marlon Brando', u'Al Pacino', u'James Caan']  \n",
       "2    [u'Al Pacino', u'Robert De Niro', u'Robert Duv...  \n",
       "3    [u'Christian Bale', u'Heath Ledger', u'Aaron E...  \n",
       "4    [u'John Travolta', u'Uma Thurman', u'Samuel L....  \n",
       "..                                                 ...  \n",
       "974  [u'Dustin Hoffman', u'Jessica Lange', u'Teri G...  \n",
       "975  [u'Michael J. Fox', u'Christopher Lloyd', u'Ma...  \n",
       "976  [u'Russell Crowe', u'Paul Bettany', u'Billy Bo...  \n",
       "977        \"[u'JoBeth Williams', u\"\"Heather O'Rourke\"\"  \n",
       "978  [u'Charlie Sheen', u'Michael Douglas', u'Tamar...  \n",
       "\n",
       "[979 rows x 6 columns]"
      ]
     },
     "execution_count": 12,
     "metadata": {},
     "output_type": "execute_result"
    }
   ],
   "source": [
    "df4"
   ]
  },
  {
   "cell_type": "code",
   "execution_count": 19,
   "id": "dc7d60f4",
   "metadata": {},
   "outputs": [
    {
     "data": {
      "text/plain": [
       "pandas.core.frame.DataFrame"
      ]
     },
     "execution_count": 19,
     "metadata": {},
     "output_type": "execute_result"
    }
   ],
   "source": [
    "type(df4)"
   ]
  },
  {
   "cell_type": "code",
   "execution_count": 13,
   "id": "f330ee4c",
   "metadata": {},
   "outputs": [],
   "source": [
    "df4.to_csv('test.csv')"
   ]
  },
  {
   "cell_type": "code",
   "execution_count": 17,
   "id": "7cd68d52",
   "metadata": {},
   "outputs": [],
   "source": [
    "df5 = spark.read.csv('test.csv',header = True,inferSchema = True)"
   ]
  },
  {
   "cell_type": "code",
   "execution_count": 18,
   "id": "f0e6078a",
   "metadata": {},
   "outputs": [
    {
     "name": "stdout",
     "output_type": "stream",
     "text": [
      "+---+-----------+--------------------+--------------+---------+--------+--------------------+\n",
      "|_c0|star_rating|               title|content_rating|    genre|duration|         actors_list|\n",
      "+---+-----------+--------------------+--------------+---------+--------+--------------------+\n",
      "|  0|        9.3|The Shawshank Red...|             R|    Crime|     142|[u'Tim Robbins', ...|\n",
      "|  1|        9.2|       The Godfather|             R|    Crime|     175|[u'Marlon Brando'...|\n",
      "|  2|        9.1|The Godfather: Pa...|             R|    Crime|     200|[u'Al Pacino', u'...|\n",
      "|  3|        9.0|     The Dark Knight|         PG-13|   Action|     152|[u'Christian Bale...|\n",
      "|  4|        8.9|        Pulp Fiction|             R|    Crime|     154|[u'John Travolta'...|\n",
      "|  5|        8.9|        12 Angry Men|     NOT RATED|    Drama|      96|[u'Henry Fonda', ...|\n",
      "|  6|        8.9|The Good, the Bad...|     NOT RATED|  Western|     161|[u'Clint Eastwood...|\n",
      "|  7|        8.9|The Lord of the R...|         PG-13|Adventure|     201|[u'Elijah Wood', ...|\n",
      "|  8|        8.9|    Schindler's List|             R|Biography|     195|[u'Liam Neeson', ...|\n",
      "|  9|        8.9|          Fight Club|             R|    Drama|     139|[u'Brad Pitt', u'...|\n",
      "| 10|        8.8|The Lord of the R...|         PG-13|Adventure|     178|[u'Elijah Wood', ...|\n",
      "| 11|        8.8|           Inception|         PG-13|   Action|     148|[u'Leonardo DiCap...|\n",
      "| 12|        8.8|Star Wars: Episod...|            PG|   Action|     124|[u'Mark Hamill', ...|\n",
      "| 13|        8.8|        Forrest Gump|         PG-13|    Drama|     142|[u'Tom Hanks', u'...|\n",
      "| 14|        8.8|The Lord of the R...|         PG-13|Adventure|     179|[u'Elijah Wood', ...|\n",
      "| 15|        8.7|        Interstellar|         PG-13|Adventure|     169|[u'Matthew McCona...|\n",
      "| 16|        8.7|One Flew Over the...|             R|    Drama|     133|[u'Jack Nicholson...|\n",
      "| 17|        8.7|       Seven Samurai|       UNRATED|    Drama|     207|[u'Toshir\\xf4 Mif...|\n",
      "| 18|        8.7|          Goodfellas|             R|Biography|     146|[u'Robert De Niro...|\n",
      "| 19|        8.7|           Star Wars|            PG|   Action|     121|[u'Mark Hamill', ...|\n",
      "+---+-----------+--------------------+--------------+---------+--------+--------------------+\n",
      "only showing top 20 rows\n",
      "\n"
     ]
    }
   ],
   "source": [
    "df5.show()"
   ]
  },
  {
   "cell_type": "code",
   "execution_count": 22,
   "id": "26e3608c",
   "metadata": {},
   "outputs": [
    {
     "name": "stdout",
     "output_type": "stream",
     "text": [
      "+-----------+--------------------+--------------+---------+--------+--------------------+\n",
      "|star_rating|               title|content_rating|    genre|duration|         actors_list|\n",
      "+-----------+--------------------+--------------+---------+--------+--------------------+\n",
      "|        9.3|The Shawshank Red...|             R|    Crime|     142|[u'Tim Robbins', ...|\n",
      "|        9.2|       The Godfather|             R|    Crime|     175|[u'Marlon Brando'...|\n",
      "|        9.1|The Godfather: Pa...|             R|    Crime|     200|[u'Al Pacino', u'...|\n",
      "|        9.0|     The Dark Knight|         PG-13|   Action|     152|[u'Christian Bale...|\n",
      "|        8.9|        Pulp Fiction|             R|    Crime|     154|[u'John Travolta'...|\n",
      "|        8.9|        12 Angry Men|     NOT RATED|    Drama|      96|[u'Henry Fonda', ...|\n",
      "|        8.9|The Good, the Bad...|     NOT RATED|  Western|     161|[u'Clint Eastwood...|\n",
      "|        8.9|The Lord of the R...|         PG-13|Adventure|     201|[u'Elijah Wood', ...|\n",
      "|        8.9|    Schindler's List|             R|Biography|     195|[u'Liam Neeson', ...|\n",
      "|        8.9|          Fight Club|             R|    Drama|     139|[u'Brad Pitt', u'...|\n",
      "|        8.8|The Lord of the R...|         PG-13|Adventure|     178|[u'Elijah Wood', ...|\n",
      "|        8.8|           Inception|         PG-13|   Action|     148|[u'Leonardo DiCap...|\n",
      "|        8.8|Star Wars: Episod...|            PG|   Action|     124|[u'Mark Hamill', ...|\n",
      "|        8.8|        Forrest Gump|         PG-13|    Drama|     142|[u'Tom Hanks', u'...|\n",
      "|        8.8|The Lord of the R...|         PG-13|Adventure|     179|[u'Elijah Wood', ...|\n",
      "|        8.7|        Interstellar|         PG-13|Adventure|     169|[u'Matthew McCona...|\n",
      "|        8.7|One Flew Over the...|             R|    Drama|     133|[u'Jack Nicholson...|\n",
      "|        8.7|       Seven Samurai|       UNRATED|    Drama|     207|[u'Toshir\\xf4 Mif...|\n",
      "|        8.7|          Goodfellas|             R|Biography|     146|[u'Robert De Niro...|\n",
      "|        8.7|           Star Wars|            PG|   Action|     121|[u'Mark Hamill', ...|\n",
      "+-----------+--------------------+--------------+---------+--------+--------------------+\n",
      "only showing top 20 rows\n",
      "\n"
     ]
    }
   ],
   "source": [
    "df3.show()"
   ]
  },
  {
   "cell_type": "code",
   "execution_count": 28,
   "id": "68f8a442",
   "metadata": {},
   "outputs": [
    {
     "name": "stdout",
     "output_type": "stream",
     "text": [
      "+----------------+\n",
      "|max(star_rating)|\n",
      "+----------------+\n",
      "|             9.3|\n",
      "+----------------+\n",
      "\n"
     ]
    }
   ],
   "source": [
    "df3.agg({'star_rating':'max'}).show()              # maximum value of column star_rating with using aggrigate and max"
   ]
  },
  {
   "cell_type": "code",
   "execution_count": 29,
   "id": "cd2bf5d8",
   "metadata": {},
   "outputs": [
    {
     "name": "stdout",
     "output_type": "stream",
     "text": [
      "+-------------+\n",
      "|max(duration)|\n",
      "+-------------+\n",
      "|          242|\n",
      "+-------------+\n",
      "\n"
     ]
    }
   ],
   "source": [
    "df3.agg({'duration':'max'}).show()                # maximum value of column duration with using aggrigate and max"
   ]
  },
  {
   "cell_type": "code",
   "execution_count": 30,
   "id": "71b5b761",
   "metadata": {},
   "outputs": [
    {
     "name": "stdout",
     "output_type": "stream",
     "text": [
      "+-------------+\n",
      "|min(duration)|\n",
      "+-------------+\n",
      "|           64|\n",
      "+-------------+\n",
      "\n"
     ]
    }
   ],
   "source": [
    "df3.agg({'duration':'min'}).show()               # minimum value of column duration with using aggregate and min"
   ]
  },
  {
   "cell_type": "code",
   "execution_count": 31,
   "id": "02480c51",
   "metadata": {},
   "outputs": [
    {
     "name": "stdout",
     "output_type": "stream",
     "text": [
      "+-------------+\n",
      "|sum(duration)|\n",
      "+-------------+\n",
      "|       118439|\n",
      "+-------------+\n",
      "\n"
     ]
    }
   ],
   "source": [
    "df3.agg({'duration':'sum'}).show()              # total sum value of column duration with using aggrigate and sum"
   ]
  },
  {
   "cell_type": "code",
   "execution_count": 34,
   "id": "c2c3521b",
   "metadata": {},
   "outputs": [
    {
     "name": "stdout",
     "output_type": "stream",
     "text": [
      "+------------------+\n",
      "|     avg(duration)|\n",
      "+------------------+\n",
      "|120.97957099080695|\n",
      "+------------------+\n",
      "\n"
     ]
    }
   ],
   "source": [
    "df3.agg({'duration':'avg'}).show()             # avg value of column duration with using aggrigate and avg"
   ]
  },
  {
   "cell_type": "code",
   "execution_count": 42,
   "id": "09d4382d",
   "metadata": {},
   "outputs": [
    {
     "name": "stdout",
     "output_type": "stream",
     "text": [
      "+-------------+----------------+\n",
      "|max(duration)|max(star_rating)|\n",
      "+-------------+----------------+\n",
      "|          242|             9.3|\n",
      "+-------------+----------------+\n",
      "\n"
     ]
    }
   ],
   "source": [
    "df3.agg({'star_rating':'max','duration':'max'}).show()       # max value of star_rating and duration with using aggrigate and max"
   ]
  },
  {
   "cell_type": "code",
   "execution_count": 43,
   "id": "4fd08269",
   "metadata": {},
   "outputs": [
    {
     "name": "stdout",
     "output_type": "stream",
     "text": [
      "+-----------+--------------------+--------------+---------+--------+--------------------+\n",
      "|star_rating|               title|content_rating|    genre|duration|         actors_list|\n",
      "+-----------+--------------------+--------------+---------+--------+--------------------+\n",
      "|        9.3|The Shawshank Red...|             R|    Crime|     142|[u'Tim Robbins', ...|\n",
      "|        9.2|       The Godfather|             R|    Crime|     175|[u'Marlon Brando'...|\n",
      "|        9.1|The Godfather: Pa...|             R|    Crime|     200|[u'Al Pacino', u'...|\n",
      "|        9.0|     The Dark Knight|         PG-13|   Action|     152|[u'Christian Bale...|\n",
      "|        8.9|        Pulp Fiction|             R|    Crime|     154|[u'John Travolta'...|\n",
      "|        8.9|        12 Angry Men|     NOT RATED|    Drama|      96|[u'Henry Fonda', ...|\n",
      "|        8.9|The Good, the Bad...|     NOT RATED|  Western|     161|[u'Clint Eastwood...|\n",
      "|        8.9|The Lord of the R...|         PG-13|Adventure|     201|[u'Elijah Wood', ...|\n",
      "|        8.9|    Schindler's List|             R|Biography|     195|[u'Liam Neeson', ...|\n",
      "|        8.9|          Fight Club|             R|    Drama|     139|[u'Brad Pitt', u'...|\n",
      "|        8.8|The Lord of the R...|         PG-13|Adventure|     178|[u'Elijah Wood', ...|\n",
      "|        8.8|           Inception|         PG-13|   Action|     148|[u'Leonardo DiCap...|\n",
      "|        8.8|Star Wars: Episod...|            PG|   Action|     124|[u'Mark Hamill', ...|\n",
      "|        8.8|        Forrest Gump|         PG-13|    Drama|     142|[u'Tom Hanks', u'...|\n",
      "|        8.8|The Lord of the R...|         PG-13|Adventure|     179|[u'Elijah Wood', ...|\n",
      "|        8.7|        Interstellar|         PG-13|Adventure|     169|[u'Matthew McCona...|\n",
      "|        8.7|One Flew Over the...|             R|    Drama|     133|[u'Jack Nicholson...|\n",
      "|        8.7|       Seven Samurai|       UNRATED|    Drama|     207|[u'Toshir\\xf4 Mif...|\n",
      "|        8.7|          Goodfellas|             R|Biography|     146|[u'Robert De Niro...|\n",
      "|        8.7|           Star Wars|            PG|   Action|     121|[u'Mark Hamill', ...|\n",
      "+-----------+--------------------+--------------+---------+--------+--------------------+\n",
      "only showing top 20 rows\n",
      "\n"
     ]
    }
   ],
   "source": [
    "df3.show()"
   ]
  },
  {
   "cell_type": "code",
   "execution_count": 48,
   "id": "55d8f08c",
   "metadata": {},
   "outputs": [
    {
     "name": "stdout",
     "output_type": "stream",
     "text": [
      "+-----------+--------------------+--------------+---------+--------+--------------------+\n",
      "|star_rating|               title|content_rating|    genre|duration|         actors_list|\n",
      "+-----------+--------------------+--------------+---------+--------+--------------------+\n",
      "|        7.4|     Man on the Moon|             R|Biography|     118|[u'Jim Carrey', u...|\n",
      "|        7.4|               Bound|             R|    Crime|     108|[u'Jennifer Tilly...|\n",
      "|        7.4|        Mean Streets|             R|    Crime|     112|[u'Robert De Niro...|\n",
      "|        7.4|Harry Potter and ...|         PG-13|Adventure|     138|[u'Daniel Radclif...|\n",
      "|        7.4|         Beetlejuice|            PG|   Comedy|      92|[u'Alec Baldwin',...|\n",
      "|        7.4|Crazy, Stupid, Love.|         PG-13|   Comedy|     118|[u'Steve Carell',...|\n",
      "|        7.4|           Excalibur|             R|Adventure|     140|[u'Nigel Terry', ...|\n",
      "|        7.4|           True Grit|          null|Adventure|     128|[u'John Wayne', u...|\n",
      "|        7.4|           Labyrinth|            PG|Adventure|     101|[u'David Bowie', ...|\n",
      "|        7.4| Alice in Wonderland|             G|Animation|      75|[u'Kathryn Beaumo...|\n",
      "|        7.4|      Predestination|             R|    Drama|      97|[u'Ethan Hawke', ...|\n",
      "|        7.4|Much Ado About No...|         PG-13|   Comedy|     111|[u'Kenneth Branag...|\n",
      "|        7.4|    A Bridge Too Far|            PG|    Drama|     175|\"[u'Sean Connery'...|\n",
      "|        7.4|     Raising Arizona|         PG-13|   Comedy|      94|[u'Nicolas Cage',...|\n",
      "|        7.4|     The Bucket List|         PG-13|Adventure|      97|[u'Jack Nicholson...|\n",
      "|        7.4| Terms of Endearment|             R|   Comedy|     132|[u'Shirley MacLai...|\n",
      "|        7.4|        Take Shelter|             R|    Drama|     120|[u'Michael Shanno...|\n",
      "|        7.4|     Far from Heaven|         PG-13|    Drama|     107|[u'Julianne Moore...|\n",
      "|        7.4|          Eraserhead|       UNRATED|    Drama|      89|[u'Jack Nance', u...|\n",
      "|        7.4|          Frances Ha|             R|   Comedy|      86|[u'Greta Gerwig',...|\n",
      "+-----------+--------------------+--------------+---------+--------+--------------------+\n",
      "only showing top 20 rows\n",
      "\n"
     ]
    }
   ],
   "source": [
    "df3.orderBy('star_rating').show()          # arrange df3 in ascending order"
   ]
  },
  {
   "cell_type": "code",
   "execution_count": 49,
   "id": "b08b047f",
   "metadata": {},
   "outputs": [
    {
     "name": "stdout",
     "output_type": "stream",
     "text": [
      "+-----------+--------------------+--------------+---------+--------+--------------------+\n",
      "|star_rating|               title|content_rating|    genre|duration|         actors_list|\n",
      "+-----------+--------------------+--------------+---------+--------+--------------------+\n",
      "|        9.3|The Shawshank Red...|             R|    Crime|     142|[u'Tim Robbins', ...|\n",
      "|        9.2|       The Godfather|             R|    Crime|     175|[u'Marlon Brando'...|\n",
      "|        9.1|The Godfather: Pa...|             R|    Crime|     200|[u'Al Pacino', u'...|\n",
      "|        9.0|     The Dark Knight|         PG-13|   Action|     152|[u'Christian Bale...|\n",
      "|        8.9|        Pulp Fiction|             R|    Crime|     154|[u'John Travolta'...|\n",
      "|        8.9|          Fight Club|             R|    Drama|     139|[u'Brad Pitt', u'...|\n",
      "|        8.9|        12 Angry Men|     NOT RATED|    Drama|      96|[u'Henry Fonda', ...|\n",
      "|        8.9|The Good, the Bad...|     NOT RATED|  Western|     161|[u'Clint Eastwood...|\n",
      "|        8.9|    Schindler's List|             R|Biography|     195|[u'Liam Neeson', ...|\n",
      "|        8.9|The Lord of the R...|         PG-13|Adventure|     201|[u'Elijah Wood', ...|\n",
      "|        8.8|           Inception|         PG-13|   Action|     148|[u'Leonardo DiCap...|\n",
      "|        8.8|Star Wars: Episod...|            PG|   Action|     124|[u'Mark Hamill', ...|\n",
      "|        8.8|        Forrest Gump|         PG-13|    Drama|     142|[u'Tom Hanks', u'...|\n",
      "|        8.8|The Lord of the R...|         PG-13|Adventure|     179|[u'Elijah Wood', ...|\n",
      "|        8.8|The Lord of the R...|         PG-13|Adventure|     178|[u'Elijah Wood', ...|\n",
      "|        8.7|        Interstellar|         PG-13|Adventure|     169|[u'Matthew McCona...|\n",
      "|        8.7|One Flew Over the...|             R|    Drama|     133|[u'Jack Nicholson...|\n",
      "|        8.7|       Seven Samurai|       UNRATED|    Drama|     207|[u'Toshir\\xf4 Mif...|\n",
      "|        8.7|           Star Wars|            PG|   Action|     121|[u'Mark Hamill', ...|\n",
      "|        8.7|          Goodfellas|             R|Biography|     146|[u'Robert De Niro...|\n",
      "+-----------+--------------------+--------------+---------+--------+--------------------+\n",
      "only showing top 20 rows\n",
      "\n"
     ]
    }
   ],
   "source": [
    "df3.sort(df3.star_rating.desc()).show()       # arrange df3 in descending order"
   ]
  },
  {
   "cell_type": "code",
   "execution_count": 53,
   "id": "bc842f99",
   "metadata": {},
   "outputs": [
    {
     "name": "stdout",
     "output_type": "stream",
     "text": [
      "+-----------+--------------------+--------------+---------+--------+--------------------+\n",
      "|star_rating|               title|content_rating|    genre|duration|         actors_list|\n",
      "+-----------+--------------------+--------------+---------+--------+--------------------+\n",
      "|        9.3|The Shawshank Red...|             R|    Crime|     142|[u'Tim Robbins', ...|\n",
      "|        9.2|       The Godfather|             R|    Crime|     175|[u'Marlon Brando'...|\n",
      "|        9.1|The Godfather: Pa...|             R|    Crime|     200|[u'Al Pacino', u'...|\n",
      "|        9.0|     The Dark Knight|         PG-13|   Action|     152|[u'Christian Bale...|\n",
      "|        8.9|        Pulp Fiction|             R|    Crime|     154|[u'John Travolta'...|\n",
      "|        8.9|          Fight Club|             R|    Drama|     139|[u'Brad Pitt', u'...|\n",
      "|        8.9|        12 Angry Men|     NOT RATED|    Drama|      96|[u'Henry Fonda', ...|\n",
      "|        8.9|The Good, the Bad...|     NOT RATED|  Western|     161|[u'Clint Eastwood...|\n",
      "|        8.9|    Schindler's List|             R|Biography|     195|[u'Liam Neeson', ...|\n",
      "|        8.9|The Lord of the R...|         PG-13|Adventure|     201|[u'Elijah Wood', ...|\n",
      "|        8.8|           Inception|         PG-13|   Action|     148|[u'Leonardo DiCap...|\n",
      "|        8.8|Star Wars: Episod...|            PG|   Action|     124|[u'Mark Hamill', ...|\n",
      "|        8.8|        Forrest Gump|         PG-13|    Drama|     142|[u'Tom Hanks', u'...|\n",
      "|        8.8|The Lord of the R...|         PG-13|Adventure|     179|[u'Elijah Wood', ...|\n",
      "|        8.8|The Lord of the R...|         PG-13|Adventure|     178|[u'Elijah Wood', ...|\n",
      "|        8.7|        Interstellar|         PG-13|Adventure|     169|[u'Matthew McCona...|\n",
      "|        8.7|One Flew Over the...|             R|    Drama|     133|[u'Jack Nicholson...|\n",
      "|        8.7|       Seven Samurai|       UNRATED|    Drama|     207|[u'Toshir\\xf4 Mif...|\n",
      "|        8.7|           Star Wars|            PG|   Action|     121|[u'Mark Hamill', ...|\n",
      "|        8.7|          Goodfellas|             R|Biography|     146|[u'Robert De Niro...|\n",
      "+-----------+--------------------+--------------+---------+--------+--------------------+\n",
      "only showing top 20 rows\n",
      "\n"
     ]
    }
   ],
   "source": [
    "df3.orderBy(df3.star_rating.desc()).show()        # arrange df3 in descending order"
   ]
  },
  {
   "cell_type": "code",
   "execution_count": 54,
   "id": "4ec7b8ac",
   "metadata": {},
   "outputs": [],
   "source": [
    "df5 = df3.withColumn('new_duration',df3.duration/50)  ## add column 'new_duration' and values will be from devide by 50 to duration column"
   ]
  },
  {
   "cell_type": "code",
   "execution_count": 57,
   "id": "7f482d53",
   "metadata": {},
   "outputs": [
    {
     "name": "stdout",
     "output_type": "stream",
     "text": [
      "+-----------+--------------------+--------------+---------+--------+--------------------+------------+\n",
      "|star_rating|               title|content_rating|    genre|duration|         actors_list|new_duration|\n",
      "+-----------+--------------------+--------------+---------+--------+--------------------+------------+\n",
      "|        9.3|The Shawshank Red...|             R|    Crime|     142|[u'Tim Robbins', ...|        2.84|\n",
      "|        9.2|       The Godfather|             R|    Crime|     175|[u'Marlon Brando'...|         3.5|\n",
      "|        9.1|The Godfather: Pa...|             R|    Crime|     200|[u'Al Pacino', u'...|         4.0|\n",
      "|        9.0|     The Dark Knight|         PG-13|   Action|     152|[u'Christian Bale...|        3.04|\n",
      "|        8.9|        Pulp Fiction|             R|    Crime|     154|[u'John Travolta'...|        3.08|\n",
      "|        8.9|        12 Angry Men|     NOT RATED|    Drama|      96|[u'Henry Fonda', ...|        1.92|\n",
      "|        8.9|The Good, the Bad...|     NOT RATED|  Western|     161|[u'Clint Eastwood...|        3.22|\n",
      "|        8.9|The Lord of the R...|         PG-13|Adventure|     201|[u'Elijah Wood', ...|        4.02|\n",
      "|        8.9|    Schindler's List|             R|Biography|     195|[u'Liam Neeson', ...|         3.9|\n",
      "|        8.9|          Fight Club|             R|    Drama|     139|[u'Brad Pitt', u'...|        2.78|\n",
      "|        8.8|The Lord of the R...|         PG-13|Adventure|     178|[u'Elijah Wood', ...|        3.56|\n",
      "|        8.8|           Inception|         PG-13|   Action|     148|[u'Leonardo DiCap...|        2.96|\n",
      "|        8.8|Star Wars: Episod...|            PG|   Action|     124|[u'Mark Hamill', ...|        2.48|\n",
      "|        8.8|        Forrest Gump|         PG-13|    Drama|     142|[u'Tom Hanks', u'...|        2.84|\n",
      "|        8.8|The Lord of the R...|         PG-13|Adventure|     179|[u'Elijah Wood', ...|        3.58|\n",
      "|        8.7|        Interstellar|         PG-13|Adventure|     169|[u'Matthew McCona...|        3.38|\n",
      "|        8.7|One Flew Over the...|             R|    Drama|     133|[u'Jack Nicholson...|        2.66|\n",
      "|        8.7|       Seven Samurai|       UNRATED|    Drama|     207|[u'Toshir\\xf4 Mif...|        4.14|\n",
      "|        8.7|          Goodfellas|             R|Biography|     146|[u'Robert De Niro...|        2.92|\n",
      "|        8.7|           Star Wars|            PG|   Action|     121|[u'Mark Hamill', ...|        2.42|\n",
      "+-----------+--------------------+--------------+---------+--------+--------------------+------------+\n",
      "only showing top 20 rows\n",
      "\n"
     ]
    }
   ],
   "source": [
    "df5.show()"
   ]
  },
  {
   "cell_type": "code",
   "execution_count": 58,
   "id": "de67a366",
   "metadata": {},
   "outputs": [],
   "source": [
    "df6 = df5.withColumn('m_duration',df5.new_duration*100)  # add column 'm_duration' and values will be from multiply by 100 to duration column"
   ]
  },
  {
   "cell_type": "code",
   "execution_count": 59,
   "id": "597da433",
   "metadata": {},
   "outputs": [
    {
     "name": "stdout",
     "output_type": "stream",
     "text": [
      "+-----------+--------------------+--------------+---------+--------+--------------------+------------+------------------+\n",
      "|star_rating|               title|content_rating|    genre|duration|         actors_list|new_duration|        m_duration|\n",
      "+-----------+--------------------+--------------+---------+--------+--------------------+------------+------------------+\n",
      "|        9.3|The Shawshank Red...|             R|    Crime|     142|[u'Tim Robbins', ...|        2.84|             284.0|\n",
      "|        9.2|       The Godfather|             R|    Crime|     175|[u'Marlon Brando'...|         3.5|             350.0|\n",
      "|        9.1|The Godfather: Pa...|             R|    Crime|     200|[u'Al Pacino', u'...|         4.0|             400.0|\n",
      "|        9.0|     The Dark Knight|         PG-13|   Action|     152|[u'Christian Bale...|        3.04|             304.0|\n",
      "|        8.9|        Pulp Fiction|             R|    Crime|     154|[u'John Travolta'...|        3.08|             308.0|\n",
      "|        8.9|        12 Angry Men|     NOT RATED|    Drama|      96|[u'Henry Fonda', ...|        1.92|             192.0|\n",
      "|        8.9|The Good, the Bad...|     NOT RATED|  Western|     161|[u'Clint Eastwood...|        3.22|             322.0|\n",
      "|        8.9|The Lord of the R...|         PG-13|Adventure|     201|[u'Elijah Wood', ...|        4.02|401.99999999999994|\n",
      "|        8.9|    Schindler's List|             R|Biography|     195|[u'Liam Neeson', ...|         3.9|             390.0|\n",
      "|        8.9|          Fight Club|             R|    Drama|     139|[u'Brad Pitt', u'...|        2.78|             278.0|\n",
      "|        8.8|The Lord of the R...|         PG-13|Adventure|     178|[u'Elijah Wood', ...|        3.56|             356.0|\n",
      "|        8.8|           Inception|         PG-13|   Action|     148|[u'Leonardo DiCap...|        2.96|             296.0|\n",
      "|        8.8|Star Wars: Episod...|            PG|   Action|     124|[u'Mark Hamill', ...|        2.48|             248.0|\n",
      "|        8.8|        Forrest Gump|         PG-13|    Drama|     142|[u'Tom Hanks', u'...|        2.84|             284.0|\n",
      "|        8.8|The Lord of the R...|         PG-13|Adventure|     179|[u'Elijah Wood', ...|        3.58|             358.0|\n",
      "|        8.7|        Interstellar|         PG-13|Adventure|     169|[u'Matthew McCona...|        3.38|             338.0|\n",
      "|        8.7|One Flew Over the...|             R|    Drama|     133|[u'Jack Nicholson...|        2.66|             266.0|\n",
      "|        8.7|       Seven Samurai|       UNRATED|    Drama|     207|[u'Toshir\\xf4 Mif...|        4.14|413.99999999999994|\n",
      "|        8.7|          Goodfellas|             R|Biography|     146|[u'Robert De Niro...|        2.92|             292.0|\n",
      "|        8.7|           Star Wars|            PG|   Action|     121|[u'Mark Hamill', ...|        2.42|             242.0|\n",
      "+-----------+--------------------+--------------+---------+--------+--------------------+------------+------------------+\n",
      "only showing top 20 rows\n",
      "\n"
     ]
    }
   ],
   "source": [
    "df6.show()"
   ]
  },
  {
   "cell_type": "code",
   "execution_count": 60,
   "id": "b51297cd",
   "metadata": {},
   "outputs": [
    {
     "name": "stdout",
     "output_type": "stream",
     "text": [
      "+-----------+--------------------+--------------+---------+--------+--------------------+------------+\n",
      "|star_rating|               title|content_rating|    genre|duration|         actors_list|new_duration|\n",
      "+-----------+--------------------+--------------+---------+--------+--------------------+------------+\n",
      "|        9.3|The Shawshank Red...|             R|    Crime|     142|[u'Tim Robbins', ...|        2.84|\n",
      "|        9.2|       The Godfather|             R|    Crime|     175|[u'Marlon Brando'...|         3.5|\n",
      "|        9.1|The Godfather: Pa...|             R|    Crime|     200|[u'Al Pacino', u'...|         4.0|\n",
      "|        9.0|     The Dark Knight|         PG-13|   Action|     152|[u'Christian Bale...|        3.04|\n",
      "|        8.9|        Pulp Fiction|             R|    Crime|     154|[u'John Travolta'...|        3.08|\n",
      "|        8.9|        12 Angry Men|     NOT RATED|    Drama|      96|[u'Henry Fonda', ...|        1.92|\n",
      "|        8.9|The Good, the Bad...|     NOT RATED|  Western|     161|[u'Clint Eastwood...|        3.22|\n",
      "|        8.9|The Lord of the R...|         PG-13|Adventure|     201|[u'Elijah Wood', ...|        4.02|\n",
      "|        8.9|    Schindler's List|             R|Biography|     195|[u'Liam Neeson', ...|         3.9|\n",
      "|        8.9|          Fight Club|             R|    Drama|     139|[u'Brad Pitt', u'...|        2.78|\n",
      "|        8.8|The Lord of the R...|         PG-13|Adventure|     178|[u'Elijah Wood', ...|        3.56|\n",
      "|        8.8|           Inception|         PG-13|   Action|     148|[u'Leonardo DiCap...|        2.96|\n",
      "|        8.8|Star Wars: Episod...|            PG|   Action|     124|[u'Mark Hamill', ...|        2.48|\n",
      "|        8.8|        Forrest Gump|         PG-13|    Drama|     142|[u'Tom Hanks', u'...|        2.84|\n",
      "|        8.8|The Lord of the R...|         PG-13|Adventure|     179|[u'Elijah Wood', ...|        3.58|\n",
      "|        8.7|        Interstellar|         PG-13|Adventure|     169|[u'Matthew McCona...|        3.38|\n",
      "|        8.7|One Flew Over the...|             R|    Drama|     133|[u'Jack Nicholson...|        2.66|\n",
      "|        8.7|       Seven Samurai|       UNRATED|    Drama|     207|[u'Toshir\\xf4 Mif...|        4.14|\n",
      "|        8.7|          Goodfellas|             R|Biography|     146|[u'Robert De Niro...|        2.92|\n",
      "|        8.7|           Star Wars|            PG|   Action|     121|[u'Mark Hamill', ...|        2.42|\n",
      "+-----------+--------------------+--------------+---------+--------+--------------------+------------+\n",
      "only showing top 20 rows\n",
      "\n"
     ]
    }
   ],
   "source": [
    "df6.drop('m_duration').show()       # delete column 'm_duration'"
   ]
  },
  {
   "cell_type": "code",
   "execution_count": 62,
   "id": "c0afa4a7",
   "metadata": {},
   "outputs": [
    {
     "name": "stdout",
     "output_type": "stream",
     "text": [
      "+-----------+--------------------+--------------+---------+--------+--------------------+------------+------------------+\n",
      "|star_rating|               title|content_rating|    genre|duration|         actors_list|new_duration|        m_duration|\n",
      "+-----------+--------------------+--------------+---------+--------+--------------------+------------+------------------+\n",
      "|        9.3|The Shawshank Red...|             R|    Crime|     142|[u'Tim Robbins', ...|        2.84|             284.0|\n",
      "|        9.2|       The Godfather|             R|    Crime|     175|[u'Marlon Brando'...|         3.5|             350.0|\n",
      "|        9.1|The Godfather: Pa...|             R|    Crime|     200|[u'Al Pacino', u'...|         4.0|             400.0|\n",
      "|        9.0|     The Dark Knight|         PG-13|   Action|     152|[u'Christian Bale...|        3.04|             304.0|\n",
      "|        8.9|        Pulp Fiction|             R|    Crime|     154|[u'John Travolta'...|        3.08|             308.0|\n",
      "|        8.9|        12 Angry Men|     NOT RATED|    Drama|      96|[u'Henry Fonda', ...|        1.92|             192.0|\n",
      "|        8.9|The Good, the Bad...|     NOT RATED|  Western|     161|[u'Clint Eastwood...|        3.22|             322.0|\n",
      "|        8.9|The Lord of the R...|         PG-13|Adventure|     201|[u'Elijah Wood', ...|        4.02|401.99999999999994|\n",
      "|        8.9|    Schindler's List|             R|Biography|     195|[u'Liam Neeson', ...|         3.9|             390.0|\n",
      "|        8.9|          Fight Club|             R|    Drama|     139|[u'Brad Pitt', u'...|        2.78|             278.0|\n",
      "|        8.8|The Lord of the R...|         PG-13|Adventure|     178|[u'Elijah Wood', ...|        3.56|             356.0|\n",
      "|        8.8|           Inception|         PG-13|   Action|     148|[u'Leonardo DiCap...|        2.96|             296.0|\n",
      "|        8.8|Star Wars: Episod...|            PG|   Action|     124|[u'Mark Hamill', ...|        2.48|             248.0|\n",
      "|        8.8|        Forrest Gump|         PG-13|    Drama|     142|[u'Tom Hanks', u'...|        2.84|             284.0|\n",
      "|        8.8|The Lord of the R...|         PG-13|Adventure|     179|[u'Elijah Wood', ...|        3.58|             358.0|\n",
      "|        8.7|        Interstellar|         PG-13|Adventure|     169|[u'Matthew McCona...|        3.38|             338.0|\n",
      "|        8.7|One Flew Over the...|             R|    Drama|     133|[u'Jack Nicholson...|        2.66|             266.0|\n",
      "|        8.7|       Seven Samurai|       UNRATED|    Drama|     207|[u'Toshir\\xf4 Mif...|        4.14|413.99999999999994|\n",
      "|        8.7|          Goodfellas|             R|Biography|     146|[u'Robert De Niro...|        2.92|             292.0|\n",
      "|        8.7|           Star Wars|            PG|   Action|     121|[u'Mark Hamill', ...|        2.42|             242.0|\n",
      "+-----------+--------------------+--------------+---------+--------+--------------------+------------+------------------+\n",
      "only showing top 20 rows\n",
      "\n"
     ]
    }
   ],
   "source": [
    "df6.show()"
   ]
  },
  {
   "cell_type": "code",
   "execution_count": 2,
   "id": "f987bc7c",
   "metadata": {},
   "outputs": [],
   "source": [
    "import pyspark as ps"
   ]
  },
  {
   "cell_type": "code",
   "execution_count": 4,
   "id": "56e57a82",
   "metadata": {},
   "outputs": [],
   "source": [
    "spark = ps.sql.SparkSession.builder.getOrCreate()"
   ]
  },
  {
   "cell_type": "code",
   "execution_count": 20,
   "id": "6b1664f8",
   "metadata": {},
   "outputs": [],
   "source": [
    "df8 = spark.read.csv('test1.csv',header = True)"
   ]
  },
  {
   "cell_type": "code",
   "execution_count": 28,
   "id": "90567e7a",
   "metadata": {},
   "outputs": [
    {
     "name": "stdout",
     "output_type": "stream",
     "text": [
      "+---+------+--------+--------+\n",
      "| Id|  name| surname|    city|\n",
      "+---+------+--------+--------+\n",
      "|  1|john|kenendy|usa|\n",
      "|  2|abc|    cda|  japan|\n",
      "|  3|abn| bgd| japan|\n",
      "|  4|karl|kmn|usa|\n",
      "|  5| kcn|lkn| abc|\n",
      "+---+------+--------+--------+\n",
      "\n"
     ]
    }
   ],
   "source": [
    "df8.show()"
   ]
  },
  {
   "cell_type": "code",
   "execution_count": 33,
   "id": "aebcc859",
   "metadata": {},
   "outputs": [],
   "source": [
    "df9 = spark.read.csv('test2.csv',header= True,inferSchema=True)"
   ]
  },
  {
   "cell_type": "code",
   "execution_count": 34,
   "id": "9b56af9f",
   "metadata": {},
   "outputs": [
    {
     "name": "stdout",
     "output_type": "stream",
     "text": [
      "+---+-------+------+\n",
      "| Id|   desi|salary|\n",
      "+---+-------+------+\n",
      "|  1|   engg|  1500|\n",
      "|  2|sr.engg|  3600|\n",
      "|  3|trainee|  1500|\n",
      "|  4|     qc|  5455|\n",
      "|  5|manager|  6545|\n",
      "+---+-------+------+\n",
      "\n"
     ]
    }
   ],
   "source": [
    "df9.show()"
   ]
  },
  {
   "cell_type": "code",
   "execution_count": 36,
   "id": "adbb4238",
   "metadata": {},
   "outputs": [
    {
     "name": "stdout",
     "output_type": "stream",
     "text": [
      "root\n",
      " |-- Id: integer (nullable = true)\n",
      " |-- desi: string (nullable = true)\n",
      " |-- salary: integer (nullable = true)\n",
      "\n"
     ]
    }
   ],
   "source": [
    "df9.printSchema()"
   ]
  },
  {
   "cell_type": "code",
   "execution_count": 37,
   "id": "fdb84a04",
   "metadata": {},
   "outputs": [
    {
     "name": "stdout",
     "output_type": "stream",
     "text": [
      "+---+------+--------+--------+\n",
      "| Id|  name| surname|    city|\n",
      "+---+------+--------+--------+\n",
      "|  1|Rxx|bbb|lk|\n",
      "|  2|bhd|    lkk|  dd|\n",
      "|  3|  cc| cvb| gg|\n",
      "|  4| dd|uhg|ssss|\n",
      "|  5| sss|   mkj|     abc|\n",
      "+---+------+--------+--------+\n",
      "\n"
     ]
    }
   ],
   "source": [
    "df8.show()"
   ]
  },
  {
   "cell_type": "code",
   "execution_count": 38,
   "id": "c0db0ef2",
   "metadata": {},
   "outputs": [
    {
     "name": "stdout",
     "output_type": "stream",
     "text": [
      "+---+-------+------+\n",
      "| Id|   desi|salary|\n",
      "+---+-------+------+\n",
      "|  1|   engg|  1500|\n",
      "|  2|sr.engg|  3600|\n",
      "|  3|trainee|  1500|\n",
      "|  4|     qc|  5455|\n",
      "|  5|manager|  6545|\n",
      "+---+-------+------+\n",
      "\n"
     ]
    }
   ],
   "source": [
    "df9.show()"
   ]
  },
  {
   "cell_type": "code",
   "execution_count": 45,
   "id": "6edd7a3f",
   "metadata": {},
   "outputs": [],
   "source": [
    "df11= df8.join(df9,df8.Id==df9.Id)"
   ]
  },
  {
   "cell_type": "code",
   "execution_count": 46,
   "id": "5a2099a3",
   "metadata": {},
   "outputs": [
    {
     "name": "stdout",
     "output_type": "stream",
     "text": [
      "+---+------+--------+--------+---+-------+------+\n",
      "| Id|  name| surname|    city| Id|   desi|salary|\n",
      "+---+------+--------+--------+---+-------+------+\n",
      "|  1|qwaa|ddd|aad|  1|   engg|  1500|\n",
      "|  2|xsd|    ad|  ccc|  2|sr.engg|  3600|\n",
      "|  3|  qwa| add| fggg|  3|trainee|  1500|\n",
      "|  4| zsd|awdd|cdd|  4|     qc|  5455|\n",
      "|  5| vfc|   mhh|     abc|  5|manager|  6545|\n",
      "+---+------+--------+--------+---+-------+------+\n",
      "\n"
     ]
    }
   ],
   "source": [
    "df11.show()"
   ]
  },
  {
   "cell_type": "code",
   "execution_count": 47,
   "id": "93eced5f",
   "metadata": {},
   "outputs": [
    {
     "data": {
      "text/plain": [
       "pyspark.sql.dataframe.DataFrame"
      ]
     },
     "execution_count": 47,
     "metadata": {},
     "output_type": "execute_result"
    }
   ],
   "source": [
    "type(df11)"
   ]
  },
  {
   "cell_type": "code",
   "execution_count": null,
   "id": "cf027d85",
   "metadata": {},
   "outputs": [],
   "source": []
  }
 ],
 "metadata": {
  "kernelspec": {
   "display_name": "Python 3 (ipykernel)",
   "language": "python",
   "name": "python3"
  },
  "language_info": {
   "codemirror_mode": {
    "name": "ipython",
    "version": 3
   },
   "file_extension": ".py",
   "mimetype": "text/x-python",
   "name": "python",
   "nbconvert_exporter": "python",
   "pygments_lexer": "ipython3",
   "version": "3.9.12"
  }
 },
 "nbformat": 4,
 "nbformat_minor": 5
}
