{
 "cells": [
  {
   "cell_type": "code",
   "execution_count": 1,
   "id": "4d7d2f24",
   "metadata": {},
   "outputs": [
    {
     "name": "stdout",
     "output_type": "stream",
     "text": [
      "Requirement already satisfied: pyspark in c:\\users\\roshan b\\anaconda3\\lib\\site-packages (3.3.1)\n",
      "Requirement already satisfied: py4j==0.10.9.5 in c:\\users\\roshan b\\anaconda3\\lib\\site-packages (from pyspark) (0.10.9.5)\n",
      "Note: you may need to restart the kernel to use updated packages.\n"
     ]
    }
   ],
   "source": [
    "pip install pyspark"
   ]
  },
  {
   "cell_type": "code",
   "execution_count": 1,
   "id": "706a7115",
   "metadata": {},
   "outputs": [
    {
     "name": "stdout",
     "output_type": "stream",
     "text": [
      "Collecting sparksql-magic\n",
      "  Using cached sparksql_magic-0.0.3-py36-none-any.whl (4.3 kB)\n",
      "Requirement already satisfied: ipython>=7.4.0 in c:\\users\\roshan b\\anaconda3\\lib\\site-packages (from sparksql-magic) (8.2.0)\n",
      "Requirement already satisfied: pyspark>=2.3.0 in c:\\users\\roshan b\\anaconda3\\lib\\site-packages (from sparksql-magic) (3.3.1)\n",
      "Requirement already satisfied: pickleshare in c:\\users\\roshan b\\anaconda3\\lib\\site-packages (from ipython>=7.4.0->sparksql-magic) (0.7.5)\n",
      "Requirement already satisfied: pygments>=2.4.0 in c:\\users\\roshan b\\anaconda3\\lib\\site-packages (from ipython>=7.4.0->sparksql-magic) (2.11.2)\n",
      "Requirement already satisfied: prompt-toolkit!=3.0.0,!=3.0.1,<3.1.0,>=2.0.0 in c:\\users\\roshan b\\anaconda3\\lib\\site-packages (from ipython>=7.4.0->sparksql-magic) (3.0.20)\n",
      "Requirement already satisfied: decorator in c:\\users\\roshan b\\anaconda3\\lib\\site-packages (from ipython>=7.4.0->sparksql-magic) (5.1.1)\n",
      "Requirement already satisfied: traitlets>=5 in c:\\users\\roshan b\\anaconda3\\lib\\site-packages (from ipython>=7.4.0->sparksql-magic) (5.1.1)\n",
      "Requirement already satisfied: backcall in c:\\users\\roshan b\\anaconda3\\lib\\site-packages (from ipython>=7.4.0->sparksql-magic) (0.2.0)\n",
      "Requirement already satisfied: stack-data in c:\\users\\roshan b\\anaconda3\\lib\\site-packages (from ipython>=7.4.0->sparksql-magic) (0.2.0)\n",
      "Requirement already satisfied: colorama in c:\\users\\roshan b\\anaconda3\\lib\\site-packages (from ipython>=7.4.0->sparksql-magic) (0.4.4)\n",
      "Requirement already satisfied: jedi>=0.16 in c:\\users\\roshan b\\anaconda3\\lib\\site-packages (from ipython>=7.4.0->sparksql-magic) (0.18.1)\n",
      "Requirement already satisfied: setuptools>=18.5 in c:\\users\\roshan b\\anaconda3\\lib\\site-packages (from ipython>=7.4.0->sparksql-magic) (61.2.0)\n",
      "Requirement already satisfied: matplotlib-inline in c:\\users\\roshan b\\anaconda3\\lib\\site-packages (from ipython>=7.4.0->sparksql-magic) (0.1.2)\n",
      "Requirement already satisfied: py4j==0.10.9.5 in c:\\users\\roshan b\\anaconda3\\lib\\site-packages (from pyspark>=2.3.0->sparksql-magic) (0.10.9.5)\n",
      "Requirement already satisfied: parso<0.9.0,>=0.8.0 in c:\\users\\roshan b\\anaconda3\\lib\\site-packages (from jedi>=0.16->ipython>=7.4.0->sparksql-magic) (0.8.3)\n",
      "Requirement already satisfied: wcwidth in c:\\users\\roshan b\\anaconda3\\lib\\site-packages (from prompt-toolkit!=3.0.0,!=3.0.1,<3.1.0,>=2.0.0->ipython>=7.4.0->sparksql-magic) (0.2.5)\n",
      "Requirement already satisfied: executing in c:\\users\\roshan b\\anaconda3\\lib\\site-packages (from stack-data->ipython>=7.4.0->sparksql-magic) (0.8.3)\n",
      "Requirement already satisfied: pure-eval in c:\\users\\roshan b\\anaconda3\\lib\\site-packages (from stack-data->ipython>=7.4.0->sparksql-magic) (0.2.2)\n",
      "Requirement already satisfied: asttokens in c:\\users\\roshan b\\anaconda3\\lib\\site-packages (from stack-data->ipython>=7.4.0->sparksql-magic) (2.0.5)\n",
      "Requirement already satisfied: six in c:\\users\\roshan b\\anaconda3\\lib\\site-packages (from asttokens->stack-data->ipython>=7.4.0->sparksql-magic) (1.16.0)\n",
      "Installing collected packages: sparksql-magic\n",
      "Successfully installed sparksql-magic-0.0.3\n",
      "Note: you may need to restart the kernel to use updated packages.\n"
     ]
    }
   ],
   "source": [
    "pip install sparksql-magic"
   ]
  },
  {
   "cell_type": "code",
   "execution_count": 2,
   "id": "f593cc39",
   "metadata": {},
   "outputs": [],
   "source": [
    "import pyspark"
   ]
  },
  {
   "cell_type": "code",
   "execution_count": 1,
   "id": "e0a684f9",
   "metadata": {},
   "outputs": [
    {
     "name": "stdout",
     "output_type": "stream",
     "text": [
      "Requirement already satisfied: pyspark in c:\\users\\roshan b\\anaconda3\\lib\\site-packages (3.3.1)\n",
      "Requirement already satisfied: py4j==0.10.9.5 in c:\\users\\roshan b\\anaconda3\\lib\\site-packages (from pyspark) (0.10.9.5)\n",
      "Note: you may need to restart the kernel to use updated packages.\n"
     ]
    }
   ],
   "source": [
    "pip install pyspark"
   ]
  },
  {
   "cell_type": "code",
   "execution_count": 3,
   "id": "78441230",
   "metadata": {},
   "outputs": [],
   "source": [
    "from pyspark import SparkContext"
   ]
  },
  {
   "cell_type": "code",
   "execution_count": 4,
   "id": "f8fdb732",
   "metadata": {},
   "outputs": [],
   "source": [
    "from pyspark.sql import SparkSession"
   ]
  },
  {
   "cell_type": "code",
   "execution_count": 5,
   "id": "d6db20ba",
   "metadata": {},
   "outputs": [],
   "source": [
    "from pyspark.sql import SQLContext"
   ]
  },
  {
   "cell_type": "code",
   "execution_count": null,
   "id": "fb69d84e",
   "metadata": {},
   "outputs": [],
   "source": [
    "spark = SparkSession.builder.appName('Test').getOrCreate()"
   ]
  },
  {
   "cell_type": "code",
   "execution_count": null,
   "id": "62a74590",
   "metadata": {},
   "outputs": [],
   "source": [
    "spark"
   ]
  },
  {
   "cell_type": "code",
   "execution_count": null,
   "id": "d1d56209",
   "metadata": {},
   "outputs": [],
   "source": []
  }
 ],
 "metadata": {
  "kernelspec": {
   "display_name": "Python 3 (ipykernel)",
   "language": "python",
   "name": "python3"
  },
  "language_info": {
   "codemirror_mode": {
    "name": "ipython",
    "version": 3
   },
   "file_extension": ".py",
   "mimetype": "text/x-python",
   "name": "python",
   "nbconvert_exporter": "python",
   "pygments_lexer": "ipython3",
   "version": "3.9.12"
  }
 },
 "nbformat": 4,
 "nbformat_minor": 5
}
