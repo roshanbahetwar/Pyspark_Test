{
 "cells": [
  {
   "cell_type": "code",
   "execution_count": 9,
   "id": "a700396b",
   "metadata": {},
   "outputs": [],
   "source": [
    "import pyspark"
   ]
  },
  {
   "cell_type": "code",
   "execution_count": 10,
   "id": "9f5fe353",
   "metadata": {},
   "outputs": [],
   "source": [
    "from pyspark import SparkContext"
   ]
  },
  {
   "cell_type": "code",
   "execution_count": 11,
   "id": "ec6be9cb",
   "metadata": {},
   "outputs": [],
   "source": [
    "from pyspark.sql import SparkSession"
   ]
  },
  {
   "cell_type": "code",
   "execution_count": 12,
   "id": "cbbe3629",
   "metadata": {},
   "outputs": [],
   "source": [
    "from pyspark.sql import SQLContext"
   ]
  },
  {
   "cell_type": "code",
   "execution_count": 13,
   "id": "26ab0e90",
   "metadata": {},
   "outputs": [],
   "source": [
    "spark = SparkSession.builder.appName('Test').getOrCreate()"
   ]
  },
  {
   "cell_type": "code",
   "execution_count": 14,
   "id": "f22da4c6",
   "metadata": {},
   "outputs": [
    {
     "data": {
      "text/html": [
       "\n",
       "            <div>\n",
       "                <p><b>SparkSession - in-memory</b></p>\n",
       "                \n",
       "        <div>\n",
       "            <p><b>SparkContext</b></p>\n",
       "\n",
       "            <p><a href=\"http://LAPTOP-AT3H5HSA:4041\">Spark UI</a></p>\n",
       "\n",
       "            <dl>\n",
       "              <dt>Version</dt>\n",
       "                <dd><code>v3.3.1</code></dd>\n",
       "              <dt>Master</dt>\n",
       "                <dd><code>local[*]</code></dd>\n",
       "              <dt>AppName</dt>\n",
       "                <dd><code>pyspark-shell</code></dd>\n",
       "            </dl>\n",
       "        </div>\n",
       "        \n",
       "            </div>\n",
       "        "
      ],
      "text/plain": [
       "<pyspark.sql.session.SparkSession at 0x140edf1bbb0>"
      ]
     },
     "execution_count": 14,
     "metadata": {},
     "output_type": "execute_result"
    }
   ],
   "source": [
    "spark"
   ]
  },
  {
   "cell_type": "code",
   "execution_count": 15,
   "id": "8e9afa48",
   "metadata": {},
   "outputs": [
    {
     "name": "stdout",
     "output_type": "stream",
     "text": [
      "Hello World\n"
     ]
    }
   ],
   "source": [
    "print('Hello World')"
   ]
  },
  {
   "cell_type": "code",
   "execution_count": 16,
   "id": "50f28479",
   "metadata": {},
   "outputs": [],
   "source": [
    "import pyspark as ps"
   ]
  },
  {
   "cell_type": "code",
   "execution_count": 17,
   "id": "0d08bb6f",
   "metadata": {},
   "outputs": [],
   "source": [
    "spark = ps.sql.SparkSession.builder.getOrCreate()"
   ]
  },
  {
   "cell_type": "code",
   "execution_count": 18,
   "id": "f059b440",
   "metadata": {},
   "outputs": [],
   "source": [
    "df2 = spark.read.csv('test1.csv')"
   ]
  },
  {
   "cell_type": "code",
   "execution_count": 19,
   "id": "cc3822eb",
   "metadata": {},
   "outputs": [
    {
     "name": "stdout",
     "output_type": "stream",
     "text": [
      "+---+------+--------+--------+\n",
      "|_c0|   _c1|     _c2|     _c3|\n",
      "+---+------+--------+--------+\n",
      "| Id|  name| surname|    city|\n",
      "|  1|Roshan|Bahetwar|Kurkheda|\n",
      "|  2|Rakesh|    Nema|  Tumsar|\n",
      "|  3|  Ajay| Lilhare| Balghat|\n",
      "|  4| Komal|Bahetwar|Chikhali|\n",
      "|  5| Mohan|   Kumar|     abc|\n",
      "+---+------+--------+--------+\n",
      "\n"
     ]
    }
   ],
   "source": [
    "df2.show()"
   ]
  },
  {
   "cell_type": "code",
   "execution_count": 20,
   "id": "f74fca11",
   "metadata": {},
   "outputs": [],
   "source": [
    "df12 = spark.read.csv('movies_data.csv',header=True)"
   ]
  },
  {
   "cell_type": "code",
   "execution_count": 21,
   "id": "73dcf58d",
   "metadata": {},
   "outputs": [
    {
     "name": "stdout",
     "output_type": "stream",
     "text": [
      "+-----------+--------------------+--------------+---------+--------+--------------------+\n",
      "|star_rating|               title|content_rating|    genre|duration|         actors_list|\n",
      "+-----------+--------------------+--------------+---------+--------+--------------------+\n",
      "|        9.3|The Shawshank Red...|             R|    Crime|     142|[u'Tim Robbins', ...|\n",
      "|        9.2|       The Godfather|             R|    Crime|     175|[u'Marlon Brando'...|\n",
      "|        9.1|The Godfather: Pa...|             R|    Crime|     200|[u'Al Pacino', u'...|\n",
      "|          9|     The Dark Knight|         PG-13|   Action|     152|[u'Christian Bale...|\n",
      "|        8.9|        Pulp Fiction|             R|    Crime|     154|[u'John Travolta'...|\n",
      "|        8.9|        12 Angry Men|     NOT RATED|    Drama|      96|[u'Henry Fonda', ...|\n",
      "|        8.9|The Good, the Bad...|     NOT RATED|  Western|     161|[u'Clint Eastwood...|\n",
      "|        8.9|The Lord of the R...|         PG-13|Adventure|     201|[u'Elijah Wood', ...|\n",
      "|        8.9|    Schindler's List|             R|Biography|     195|[u'Liam Neeson', ...|\n",
      "|        8.9|          Fight Club|             R|    Drama|     139|[u'Brad Pitt', u'...|\n",
      "|        8.8|The Lord of the R...|         PG-13|Adventure|     178|[u'Elijah Wood', ...|\n",
      "|        8.8|           Inception|         PG-13|   Action|     148|[u'Leonardo DiCap...|\n",
      "|        8.8|Star Wars: Episod...|            PG|   Action|     124|[u'Mark Hamill', ...|\n",
      "|        8.8|        Forrest Gump|         PG-13|    Drama|     142|[u'Tom Hanks', u'...|\n",
      "|        8.8|The Lord of the R...|         PG-13|Adventure|     179|[u'Elijah Wood', ...|\n",
      "|        8.7|        Interstellar|         PG-13|Adventure|     169|[u'Matthew McCona...|\n",
      "|        8.7|One Flew Over the...|             R|    Drama|     133|[u'Jack Nicholson...|\n",
      "|        8.7|       Seven Samurai|       UNRATED|    Drama|     207|[u'Toshir\\xf4 Mif...|\n",
      "|        8.7|          Goodfellas|             R|Biography|     146|[u'Robert De Niro...|\n",
      "|        8.7|           Star Wars|            PG|   Action|     121|[u'Mark Hamill', ...|\n",
      "+-----------+--------------------+--------------+---------+--------+--------------------+\n",
      "only showing top 20 rows\n",
      "\n"
     ]
    }
   ],
   "source": [
    "df12.show()"
   ]
  },
  {
   "cell_type": "code",
   "execution_count": 22,
   "id": "95d64fc9",
   "metadata": {},
   "outputs": [
    {
     "data": {
      "text/plain": [
       "979"
      ]
     },
     "execution_count": 22,
     "metadata": {},
     "output_type": "execute_result"
    }
   ],
   "source": [
    "df12.count()"
   ]
  },
  {
   "cell_type": "code",
   "execution_count": null,
   "id": "a6357c6c",
   "metadata": {},
   "outputs": [],
   "source": []
  },
  {
   "cell_type": "code",
   "execution_count": null,
   "id": "c487917e",
   "metadata": {},
   "outputs": [],
   "source": []
  }
 ],
 "metadata": {
  "kernelspec": {
   "display_name": "Python 3.10.8 64-bit (microsoft store)",
   "language": "python",
   "name": "python3"
  },
  "language_info": {
   "codemirror_mode": {
    "name": "ipython",
    "version": 3
   },
   "file_extension": ".py",
   "mimetype": "text/x-python",
   "name": "python",
   "nbconvert_exporter": "python",
   "pygments_lexer": "ipython3",
   "version": "3.10.8"
  },
  "vscode": {
   "interpreter": {
    "hash": "7b233cd6a3674caa7761689485087cf31621db0b3bc5d66e28616577da9f3c60"
   }
  }
 },
 "nbformat": 4,
 "nbformat_minor": 5
}
